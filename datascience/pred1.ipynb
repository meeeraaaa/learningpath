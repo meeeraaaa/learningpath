{
 "cells": [
  {
   "cell_type": "code",
   "execution_count": null,
   "metadata": {},
   "outputs": [],
   "source": [
    "import pandas as pd\n",
    "from sklearn.metrics.pairwise import cosine_similarity\n",
    "from sklearn.preprocessing import MultiLabelBinarizer\n",
    "\n",
    "# 1. Load the data\n",
    "transformed_courses = pd.read_csv(\"C:/Users/AnanyaSarkar/Documents/project/datascienceandengg/staging/transformed/transformed_courses.csv\")\n",
    "transformed_users = pd.read_csv(\"C:/Users/AnanyaSarkar/Documents/project/datascienceandengg/staging/transformed/transformed_users.csv\")\n",
    "transformed_progress = pd.read_csv(\"C:/Users/AnanyaSarkar/Documents/project/datascienceandengg/staging/transformed/transformed_progress.csv\")\n",
    "user_skills = pd.read_csv(\"C:/Users/AnanyaSarkar/Documents/project/datascienceandengg/staging/raw/user_skills.csv\")\n",
    "designations_skills = pd.read_csv(\"C:/Users/AnanyaSarkar/Documents/project/datascienceandengg/staging/raw/designations_skill.csv\")\n",
    "course_skills = pd.read_csv(\"C:/Users/AnanyaSarkar/Documents/project/datascienceandengg/staging/raw/course_skills.csv\")\n",
    "\n",
    "# 2. Prepare the dataset\n",
    "# Merge user skills with designation skills\n",
    "designation_skills_merged = designations_skills.merge(transformed_users[['designation_id']], on='designation_id')\n",
    "\n",
    "# Create a mapping of userId to their skills\n",
    "user_skills_grouped = user_skills.groupby('userId')['skillId'].apply(list).reset_index()\n",
    "\n",
    "# Create a mapping of courseId to its skills\n",
    "course_skills_grouped = course_skills.groupby('courseId')['skillId'].apply(list).reset_index()\n",
    "\n",
    "# 3. Feature Engineering\n",
    "mlb_user_skills = MultiLabelBinarizer()\n",
    "user_skill_matrix = mlb_user_skills.fit_transform(user_skills_grouped['skillId'])\n",
    "user_skill_df = pd.DataFrame(user_skill_matrix, columns=mlb_user_skills.classes_, index=user_skills_grouped['userId'])\n",
    "\n",
    "mlb_course_skills = MultiLabelBinarizer()\n",
    "course_skill_matrix = mlb_course_skills.fit_transform(course_skills_grouped['skillId'])\n",
    "course_skill_df = pd.DataFrame(course_skill_matrix, columns=mlb_course_skills.classes_, index=course_skills_grouped['courseId'])\n",
    "\n",
    "# 4. Calculate similarity\n",
    "course_similarity = cosine_similarity(course_skill_df)\n",
    "course_similarity_df = pd.DataFrame(course_similarity, index=course_skill_df.index, columns=course_skill_df.index)"
   ]
  },
  {
   "cell_type": "code",
   "execution_count": 66,
   "metadata": {},
   "outputs": [
    {
     "name": "stdout",
     "output_type": "stream",
     "text": [
      "User skills vector shape: (1, 31)\n",
      "Course skills DataFrame shape: (30, 31)\n",
      "    courseId                                     title\n",
      "2          3                   SQL for Data Management\n",
      "11        12  Next.js: Server-Side Rendering Made Easy\n",
      "19        20                  Azure Cloud Fundamentals\n",
      "20        21           Power BI for Data Visualization\n",
      "27        28             Effective Communication in HR\n"
     ]
    },
    {
     "ename": "",
     "evalue": "",
     "output_type": "error",
     "traceback": [
      "\u001b[1;31mThe Kernel crashed while executing code in the current cell or a previous cell. \n",
      "\u001b[1;31mPlease review the code in the cell(s) to identify a possible cause of the failure. \n",
      "\u001b[1;31mClick <a href='https://aka.ms/vscodeJupyterKernelCrash'>here</a> for more info. \n",
      "\u001b[1;31mView Jupyter <a href='command:jupyter.viewOutput'>log</a> for further details."
     ]
    }
   ],
   "source": [
    "def recommend_courses(user_id, top_n=5):\n",
    "    # Get user's skills\n",
    "    if user_id not in user_skill_df.index:\n",
    "        return f\"User ID {user_id} not found.\"\n",
    "\n",
    "    # Extract user's skills as a DataFrame and convert to a vector\n",
    "    user_skills_vector = user_skill_df.loc[user_id].values.reshape(1, -1)\n",
    "\n",
    "    # Get common skills\n",
    "    common_skills = user_skill_df.columns.intersection(course_skill_df.columns)\n",
    "\n",
    "    # Align user skills vector with common skills\n",
    "    user_skills_vector = pd.DataFrame(user_skills_vector, columns=user_skill_df.columns)[common_skills].values\n",
    "\n",
    "    # Debugging print statements\n",
    "    print(\"User skills vector shape:\", user_skills_vector.shape)  # Check shape of user skills vector\n",
    "    print(\"Course skills DataFrame shape:\", course_skill_df[common_skills].shape)  # Check shape of course skills DataFrame\n",
    "\n",
    "    # Calculate similarity score with each course\n",
    "    scores = cosine_similarity(user_skills_vector, course_skill_df[common_skills])\n",
    "\n",
    "    # Create a DataFrame for scores\n",
    "    scores_df = pd.DataFrame(scores.flatten(), index=course_skill_df.index, columns=['score']).sort_values(by='score', ascending=False)\n",
    "\n",
    "    # Get top N recommended courses\n",
    "    recommended_courses = scores_df.head(top_n).index.tolist()\n",
    "\n",
    "    # Return course titles\n",
    "    return transformed_courses[transformed_courses['courseId'].isin(recommended_courses)][['courseId', 'title']]\n",
    "\n",
    "# Example usage\n",
    "user_id_example = 145  # Replace with actual user ID\n",
    "recommended_courses = recommend_courses(user_id_example)\n",
    "print(recommended_courses)\n"
   ]
  },
  {
   "cell_type": "code",
   "execution_count": 65,
   "metadata": {},
   "outputs": [],
   "source": [
    "#Recommended Courses for User 1: [np.int64(17), np.int64(16), np.int64(25), np.int64(8), np.int64(12)]\n",
    "#Recommended Courses for User 3: [np.int64(25), np.int64(17), np.int64(15), np.int64(18), np.int64(12)]\n",
    "#Recommended Courses for User 35: [np.int64(6), np.int64(1), np.int64(17), np.int64(10), np.int64(8)]\n",
    "#Recommended Courses for User 201: [np.int64(12), np.int64(8), np.int64(5), np.int64(11), np.int64(14)]"
   ]
  },
  {
   "cell_type": "code",
   "execution_count": null,
   "metadata": {},
   "outputs": [],
   "source": []
  }
 ],
 "metadata": {
  "kernelspec": {
   "display_name": "Python 3",
   "language": "python",
   "name": "python3"
  },
  "language_info": {
   "codemirror_mode": {
    "name": "ipython",
    "version": 3
   },
   "file_extension": ".py",
   "mimetype": "text/x-python",
   "name": "python",
   "nbconvert_exporter": "python",
   "pygments_lexer": "ipython3",
   "version": "3.12.5"
  }
 },
 "nbformat": 4,
 "nbformat_minor": 2
}
