{
 "cells": [
  {
   "cell_type": "code",
   "execution_count": 1,
   "metadata": {},
   "outputs": [],
   "source": [
    "import pandas as pd\n",
    "from datetime import datetime, timedelta\n"
   ]
  },
  {
   "cell_type": "code",
   "execution_count": 2,
   "metadata": {},
   "outputs": [],
   "source": [
    "\n",
    "# Load the necessary DataFrames\n",
    "progress_df = pd.read_csv(r'C:/Users/AnanyaSarkar/Documents/project/datascienceandengg/staging/transformed/transformed_progress.csv')\n",
    "courses_df = pd.read_csv(r'C:/Users/AnanyaSarkar/Documents/project/datascienceandengg/staging/transformed/transformed_courses.csv')\n",
    "\n"
   ]
  },
  {
   "cell_type": "code",
   "execution_count": 4,
   "metadata": {},
   "outputs": [],
   "source": [
    "fact_courses_file = 'C:/Users/AnanyaSarkar/Documents/project/datascienceandengg/.venv/mart/dimension/fact_courses.csv'"
   ]
  },
  {
   "cell_type": "code",
   "execution_count": 3,
   "metadata": {},
   "outputs": [],
   "source": [
    "progress_df['completion_date'] = pd.to_datetime(\n",
    "    progress_df['updated_year'].astype(str) + '-' +\n",
    "    progress_df['updated_month'].astype(str) + '-' +\n",
    "    progress_df['updated_day'].astype(str)\n",
    ")"
   ]
  },
  {
   "cell_type": "code",
   "execution_count": null,
   "metadata": {},
   "outputs": [],
   "source": [
    "completion_rate = progress_df.groupby('courseId')['percentage_completed'].mean().reset_index()\n",
    "#completion rate: everage number of days users havve taken to go from 0 to a 100percent completed on a course\n",
    "courses_df = courses_df.merge(completion_rate, left_on='id', right_on='courseId', how='left')\n",
    "courses_df.rename(columns={'percentage_completed': 'average_completion_rate'}, inplace=True)\n",
    "\n",
    "# Step 2: Identify Users at Risk\n",
    "# Create a function to determine if a user is at risk\n",
    "def flag_at_risk(row):\n",
    "    if row['percentage_completed'] < 50:\n",
    "        course_start_date = progress_df[\n",
    "            (progress_df['userId'] == row['userId']) & \n",
    "            (progress_df['courseId'] == row['courseId']) & \n",
    "            (progress_df['percentage_completed'] == 0)\n",
    "        ]\n",
    "        if not course_start_date.empty:\n",
    "            start_day = course_start_date['updated_day'].values[0]\n",
    "            start_month = course_start_date['updated_month'].values[0]\n",
    "            start_year = course_start_date['updated_year'].values[0]\n",
    "            start_date = datetime(year=start_year, month=start_month, day=start_day)\n",
    "\n",
    "            # Check if 15 days have passed since the course was assigned\n",
    "            if (datetime.now() - start_date) > timedelta(days=15):\n",
    "                return 1  # At risk\n",
    "    return 0  # Not at risk\n",
    "\n",
    "# Apply the function to determine at risk users\n",
    "progress_df['at_risk'] = progress_df.apply(flag_at_risk, axis=1)\n",
    "\n",
    "# Optionally, you can merge this back into courses_df if needed\n",
    "# courses_df = courses_df.merge(progress_df[['userId', 'courseId', 'at_risk']], on=['userId', 'courseId'], how='left')\n",
    "\n",
    "# Display results\n",
    "print(courses_df.head())\n",
    "print(progress_df.head())\n"
   ]
  },
  {
   "cell_type": "code",
   "execution_count": null,
   "metadata": {},
   "outputs": [],
   "source": [
    "def calculate_course_completion_rate(transformed_progress_df):\n",
    "    completion_times = []\n",
    "\n",
    "    # Group by courseId and calculate completion times\n",
    "    for course_id, group in transformed_progress_df.groupby('courseId'):\n",
    "        # Filter for completed courses\n",
    "        completed_entries = group[group['percentage_completed'] == 100]\n",
    "        if not completed_entries.empty:\n",
    "            # Get the start and end dates for completion\n",
    "            start_dates = group[group['percentage_completed'] == 0][['updated_day', 'updated_month', 'updated_year']]\n",
    "            end_dates = completed_entries[['updated_day', 'updated_month', 'updated_year']]\n",
    "\n",
    "            # Ensure there are entries for both start and end\n",
    "            if not start_dates.empty and not end_dates.empty:\n",
    "                start_date = datetime(year=start_dates['updated_year'].values[0],\n",
    "                                      month=start_dates['updated_month'].values[0],\n",
    "                                      day=start_dates['updated_day'].values[0])\n",
    "                end_date = datetime(year=end_dates['updated_year'].values[0],\n",
    "                                    month=end_dates['updated_month'].values[0],\n",
    "                                    day=end_dates['updated_day'].values[0])\n",
    "                \n",
    "                days_to_complete = (end_date - start_date).days\n",
    "                completion_times.append((course_id, days_to_complete))\n",
    "\n",
    "    # Create a DataFrame from the completion times\n",
    "    completion_df = pd.DataFrame(completion_times, columns=['course_id', 'completion_rate'])\n",
    "    return completion_df\n",
    "\n",
    "# Calculate course completion rates\n",
    "course_completion_rate_df = calculate_course_completion_rate(progress_df)\n",
    "\n",
    "# Merge with dim_courses\n",
    "dim_courses = fact_courses.merge(course_completion_rate_df, on='course_id', how='left')\n",
    "\n",
    "# Fill missing values with 0 for completion rates\n",
    "fact_courses['completion_rate'] = fact_courses['completion_rate'].fillna(0)\n",
    "\n",
    "# Display the updated dim_courses DataFrame\n",
    "print(\"Dim Courses DataFrame with Completion Rates:\\n\", fact_courses.head())"
   ]
  },
  {
   "cell_type": "code",
   "execution_count": null,
   "metadata": {},
   "outputs": [],
   "source": []
  },
  {
   "cell_type": "code",
   "execution_count": null,
   "metadata": {},
   "outputs": [],
   "source": []
  },
  {
   "cell_type": "code",
   "execution_count": null,
   "metadata": {},
   "outputs": [],
   "source": []
  },
  {
   "cell_type": "code",
   "execution_count": null,
   "metadata": {},
   "outputs": [],
   "source": []
  },
  {
   "cell_type": "code",
   "execution_count": null,
   "metadata": {},
   "outputs": [],
   "source": []
  },
  {
   "cell_type": "code",
   "execution_count": null,
   "metadata": {},
   "outputs": [],
   "source": [
    "# Save the final dimension table to CSV\n",
    "fact_users_df.to_csv('C:/Users/AnanyaSarkar/Documents/project/datascienceandengg/marts/fact/fact_users.csv', index=False)\n",
    "\n",
    "print(\"fact_users.csv created successfully created \")"
   ]
  }
 ],
 "metadata": {
  "kernelspec": {
   "display_name": "Python 3",
   "language": "python",
   "name": "python3"
  },
  "language_info": {
   "codemirror_mode": {
    "name": "ipython",
    "version": 3
   },
   "file_extension": ".py",
   "mimetype": "text/x-python",
   "name": "python",
   "nbconvert_exporter": "python",
   "pygments_lexer": "ipython3",
   "version": "3.12.5"
  }
 },
 "nbformat": 4,
 "nbformat_minor": 2
}
