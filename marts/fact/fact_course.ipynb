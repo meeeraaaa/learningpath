{
 "cells": [
  {
   "cell_type": "code",
   "execution_count": 1,
   "metadata": {},
   "outputs": [],
   "source": [
    "import pandas as pd\n",
    "from datetime import datetime"
   ]
  },
  {
   "cell_type": "code",
   "execution_count": 2,
   "metadata": {},
   "outputs": [],
   "source": [
    "course_skills_df = pd.read_csv(r'C:/Users/AnanyaSarkar/Documents/project/datascienceandengg/staging/raw/course_skills.csv')\n",
    "user_skills_df = pd.read_csv(r'C:/Users/AnanyaSarkar/Documents/project/datascienceandengg/staging/raw/user_skills.csv')\n",
    "courses_df = pd.read_csv(r'C:/Users/AnanyaSarkar/Documents/project/datascienceandengg/staging/transformed/transformed_courses.csv')\n",
    "progress_df = pd.read_csv(r'C:/Users/AnanyaSarkar/Documents/project/datascienceandengg/staging/transformed/transformed_progress.csv')\n",
    "users_df = pd.read_csv(r'C:/Users/AnanyaSarkar/Documents/project/datascienceandengg/staging/transformed/transformed_users.csv')"
   ]
  },
  {
   "cell_type": "code",
   "execution_count": 3,
   "metadata": {},
   "outputs": [],
   "source": [
    "fact_courses_file = 'C:/Users/AnanyaSarkar/Documents/project/datascienceandengg/.venv/mart/dimension/fact_courses.csv'"
   ]
  },
  {
   "cell_type": "code",
   "execution_count": 4,
   "metadata": {},
   "outputs": [],
   "source": [
    "progress_df['updated_date'] = pd.to_datetime(\n",
    "    progress_df['updated_year'].astype(str) + '-' +\n",
    "    progress_df['updated_month'].astype(str) + '-' +\n",
    "    progress_df['updated_day'].astype(str)\n",
    ")\n"
   ]
  },
  {
   "cell_type": "code",
   "execution_count": 5,
   "metadata": {},
   "outputs": [
    {
     "name": "stdout",
     "output_type": "stream",
     "text": [
      "Fact Courses DataFrame:\n",
      "    courseId                                          title proficiency_level  \\\n",
      "0         1                    Java Programming Essentials          Beginner   \n",
      "1         2  Mastering Java Swing for Desktop Applications          Beginner   \n",
      "2         3                        SQL for Data Management          Advanced   \n",
      "3         4                    C Programming for Beginners          Beginner   \n",
      "4         5                         Advanced C# Techniques          Advanced   \n",
      "\n",
      "   chapters  duration  course_age duration_category  \\\n",
      "0         5         2        1634             Short   \n",
      "1         9        10        1487              Long   \n",
      "2        10        10         150              Long   \n",
      "3        15         7        1096            Medium   \n",
      "4         7         5        1321            Medium   \n",
      "\n",
      "   proficiency_level_encoded  created_day  created_month  created_year  \\\n",
      "0                          1           18              4          2020   \n",
      "1                          1           12              9          2020   \n",
      "2                          3           10              5          2024   \n",
      "3                          1            7             10          2021   \n",
      "4                          3           24              2          2021   \n",
      "\n",
      "   average_days_to_complete  total_users_completed  \n",
      "0                610.449275                    138  \n",
      "1                606.933333                     75  \n",
      "2                 23.274725                     91  \n",
      "3                273.213115                     61  \n",
      "4                451.351852                    108  \n",
      "Columns in fact_courses_df:\n",
      " Index(['courseId', 'title', 'proficiency_level', 'chapters', 'duration',\n",
      "       'course_age', 'duration_category', 'proficiency_level_encoded',\n",
      "       'created_day', 'created_month', 'created_year',\n",
      "       'average_days_to_complete', 'total_users_completed'],\n",
      "      dtype='object')\n"
     ]
    },
    {
     "name": "stderr",
     "output_type": "stream",
     "text": [
      "C:\\Users\\AnanyaSarkar\\AppData\\Local\\Temp\\ipykernel_21568\\1540376115.py:37: FutureWarning: A value is trying to be set on a copy of a DataFrame or Series through chained assignment using an inplace method.\n",
      "The behavior will change in pandas 3.0. This inplace method will never work because the intermediate object on which we are setting values always behaves as a copy.\n",
      "\n",
      "For example, when doing 'df[col].method(value, inplace=True)', try using 'df.method({col: value}, inplace=True)' or df[col] = df[col].method(value) instead, to perform the operation inplace on the original object.\n",
      "\n",
      "\n",
      "  fact_courses_df['average_days_to_complete'].fillna(0, inplace=True)\n"
     ]
    }
   ],
   "source": [
    "# Calculate the completion time for each user in each course\n",
    "completion_times = []\n",
    "\n",
    "for course_id, group in progress_df.groupby('courseId'):\n",
    "    # Get the start date (when the user first starts the course, percentage 0)\n",
    "    start_dates = group[group['percentage_completed'] == 0][['userId', 'updated_date']]\n",
    "    \n",
    "    # Get the end date (when the user completes the course, percentage 100)\n",
    "    end_dates = group[group['percentage_completed'] == 100][['userId', 'updated_date']]\n",
    "    \n",
    "    # Merge start and end dates on userId\n",
    "    merged_dates = start_dates.merge(end_dates, on='userId', suffixes=('_start', '_end'))\n",
    "    \n",
    "    # Calculate the time taken for each user to complete the course\n",
    "    merged_dates['days_to_complete'] = (merged_dates['updated_date_end'] - merged_dates['updated_date_start']).dt.days\n",
    "    \n",
    "    # Append course_id and the days to complete for each user\n",
    "    for _, row in merged_dates.iterrows():\n",
    "        completion_times.append((course_id, row['userId'], row['days_to_complete']))\n",
    "\n",
    "# Create a DataFrame from completion times\n",
    "completion_df = pd.DataFrame(completion_times, columns=['courseId', 'userId', 'days_to_complete'])\n",
    "\n",
    "# Calculate the total days and the number of unique users who completed the course\n",
    "course_completion_stats = completion_df.groupby('courseId').agg(\n",
    "    total_days_to_complete=('days_to_complete', 'sum'),    # Total days taken to complete\n",
    "    total_users_completed=('userId', 'nunique')            # Count of unique users who completed the course\n",
    ").reset_index()\n",
    "\n",
    "# Calculate average days to complete\n",
    "course_completion_stats['average_days_to_complete'] = course_completion_stats['total_days_to_complete'] / course_completion_stats['total_users_completed']\n",
    "\n",
    "# Merge with courses DataFrame\n",
    "fact_courses_df = courses_df.merge(course_completion_stats[['courseId', 'average_days_to_complete', 'total_users_completed']], on='courseId', how='left')\n",
    "\n",
    "# Fill NaN values in average_days_to_complete with 0 for courses not completed by anyone\n",
    "fact_courses_df['average_days_to_complete'].fillna(0, inplace=True)\n",
    "\n",
    "# Display the resulting fact_courses DataFrame to check available columns\n",
    "print(\"Fact Courses DataFrame:\\n\", fact_courses_df.head())\n",
    "print(\"Columns in fact_courses_df:\\n\", fact_courses_df.columns)"
   ]
  },
  {
   "cell_type": "code",
   "execution_count": 6,
   "metadata": {},
   "outputs": [
    {
     "name": "stdout",
     "output_type": "stream",
     "text": [
      "   average_days_to_complete  total_users_completed\n",
      "0                610.449275                    138\n",
      "1                606.933333                     75\n",
      "2                 23.274725                     91\n",
      "3                273.213115                     61\n",
      "4                451.351852                    108\n"
     ]
    }
   ],
   "source": [
    "print(fact_courses_df[['average_days_to_complete', 'total_users_completed']].head())\n"
   ]
  },
  {
   "cell_type": "code",
   "execution_count": null,
   "metadata": {},
   "outputs": [],
   "source": []
  },
  {
   "cell_type": "code",
   "execution_count": null,
   "metadata": {},
   "outputs": [],
   "source": []
  },
  {
   "cell_type": "code",
   "execution_count": null,
   "metadata": {},
   "outputs": [],
   "source": []
  },
  {
   "cell_type": "code",
   "execution_count": null,
   "metadata": {},
   "outputs": [],
   "source": []
  },
  {
   "cell_type": "code",
   "execution_count": null,
   "metadata": {},
   "outputs": [],
   "source": []
  },
  {
   "cell_type": "code",
   "execution_count": 7,
   "metadata": {},
   "outputs": [
    {
     "ename": "NameError",
     "evalue": "name 'fact_users_df' is not defined",
     "output_type": "error",
     "traceback": [
      "\u001b[1;31m---------------------------------------------------------------------------\u001b[0m",
      "\u001b[1;31mNameError\u001b[0m                                 Traceback (most recent call last)",
      "Cell \u001b[1;32mIn[7], line 2\u001b[0m\n\u001b[0;32m      1\u001b[0m \u001b[38;5;66;03m# Save the final dimension table to CSV\u001b[39;00m\n\u001b[1;32m----> 2\u001b[0m \u001b[43mfact_users_df\u001b[49m\u001b[38;5;241m.\u001b[39mto_csv(\u001b[38;5;124m'\u001b[39m\u001b[38;5;124mC:/Users/AnanyaSarkar/Documents/project/datascienceandengg/marts/fact/fact_users.csv\u001b[39m\u001b[38;5;124m'\u001b[39m, index\u001b[38;5;241m=\u001b[39m\u001b[38;5;28;01mFalse\u001b[39;00m)\n\u001b[0;32m      4\u001b[0m \u001b[38;5;28mprint\u001b[39m(\u001b[38;5;124m\"\u001b[39m\u001b[38;5;124mfact_users.csv created successfully created \u001b[39m\u001b[38;5;124m\"\u001b[39m)\n",
      "\u001b[1;31mNameError\u001b[0m: name 'fact_users_df' is not defined"
     ]
    }
   ],
   "source": [
    "# Save the final dimension table to CSV\n",
    "fact_users_df.to_csv('C:/Users/AnanyaSarkar/Documents/project/datascienceandengg/marts/fact/fact_users.csv', index=False)\n",
    "\n",
    "print(\"fact_users.csv created successfully created \")"
   ]
  }
 ],
 "metadata": {
  "kernelspec": {
   "display_name": "Python 3",
   "language": "python",
   "name": "python3"
  },
  "language_info": {
   "codemirror_mode": {
    "name": "ipython",
    "version": 3
   },
   "file_extension": ".py",
   "mimetype": "text/x-python",
   "name": "python",
   "nbconvert_exporter": "python",
   "pygments_lexer": "ipython3",
   "version": "3.12.5"
  }
 },
 "nbformat": 4,
 "nbformat_minor": 2
}
