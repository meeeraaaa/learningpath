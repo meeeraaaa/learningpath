{
 "cells": [
  {
   "cell_type": "code",
   "execution_count": 1,
   "metadata": {},
   "outputs": [],
   "source": [
    "import pandas as pd"
   ]
  },
  {
   "cell_type": "code",
   "execution_count": 2,
   "metadata": {},
   "outputs": [],
   "source": [
    "\n",
    "transformed_users_file = 'C:/Users/AnanyaSarkar/Documents/project/datascienceandengg/staging/transformed/transformed_users.csv'\n",
    "designations_file = 'C:/Users/AnanyaSarkar/Documents/project/datascienceandengg/staging/raw/designations.csv'\n",
    "transformed_courses_file = 'C:/Users/AnanyaSarkar/Documents/project/datascienceandengg/staging/transformed/transformed_courses.csv'\n",
    "transformed_progress_file = 'C:/Users/AnanyaSarkar/Documents/project/datascienceandengg/staging/transformed/transformed_progress.csv'\n",
    "\n",
    "\n",
    "fact_users_file = 'C:/Users/AnanyaSarkar/Documents/project/datascienceandengg/.venv/mart/dimension/fact_users.csv'\n",
    "\n",
    "transformed_users_df = pd.read_csv(transformed_users_file)\n",
    "transformed_courses_df = pd.read_csv(transformed_courses_file)\n",
    "designations_df = pd.read_csv(designations_file)\n",
    "transformed_progress_df =  pd.read_csv(transformed_progress_file)\n",
    "\n",
    "#print(transformed_users_df.dtypes)\n",
    "#print(transformed_courses_df.dtypes)\n",
    "#print(designations_df.dtypes)\n",
    " #.replace({'m': 'M', 'f': 'F'})\n",
    " #beg_comp_rate avg rate at which the user has completed a beginner level courses.\n",
    "#interm_comp_rate avg rate at which the user has completed a intermediate level courses.\n",
    "#adv_comp_rate avg rate at which the user has completed a advanced level courses.\n",
    "#total beg courses completed by the user  Fill with 0 for users with no completed courses\n",
    "#total interm courses completed by the user \n",
    "#total advanced courses completed by the user \n",
    " #you can use any of the tranformed tables as well. \n",
    " #['active'] true or false given if they are in any courses currently, (less than 100percent completed )\n",
    " #['learning_speed'] based on if they have completed more than 50% of their assigned courses  quicker than duration of the course"
   ]
  },
  {
   "cell_type": "code",
   "execution_count": 3,
   "metadata": {},
   "outputs": [],
   "source": [
    "# Rename 'user_id' to 'course_id' if that’s the intended change\n",
    "transformed_courses_df.rename(columns={'user_id': 'course_id'}, inplace=True)\n"
   ]
  },
  {
   "cell_type": "code",
   "execution_count": 4,
   "metadata": {},
   "outputs": [],
   "source": [
    "\n",
    "transformed_progress_df.rename(columns={'id': 'progress_id'}, inplace=True)\n"
   ]
  },
  {
   "cell_type": "code",
   "execution_count": 5,
   "metadata": {},
   "outputs": [],
   "source": [
    "# set all employees role as employee and drop the role column,\n",
    "transformed_users_df['role'] = 'employee'\n",
    "transformed_users_df.drop(columns=['role'], inplace=True)"
   ]
  },
  {
   "cell_type": "code",
   "execution_count": 7,
   "metadata": {},
   "outputs": [],
   "source": [
    "merged_progress_df = pd.merge(transformed_progress_df, \n",
    "                               transformed_courses_df[['course_id', 'title', 'proficiency_level']], \n",
    "                               left_on='courseId', \n",
    "                               right_on='course_id', \n",
    "                               how='left')"
   ]
  },
  {
   "cell_type": "code",
   "execution_count": 8,
   "metadata": {},
   "outputs": [],
   "source": [
    "transformed_users_df['sex'] = transformed_users_df['sex'].replace({'m': 'M', 'f': 'F'})\n"
   ]
  },
  {
   "cell_type": "code",
   "execution_count": 10,
   "metadata": {},
   "outputs": [],
   "source": [
    "# avg completion rates\n",
    "completion_rates = merged_progress_df.groupby('userId').agg(\n",
    "    beg_comp_rate=('percentage_completed', lambda x: x[merged_progress_df['proficiency_level'] == 'Beginner'].mean()),\n",
    "    interm_comp_rate=('percentage_completed', lambda x: x[merged_progress_df['proficiency_level'] == 'Intermediate'].mean()),\n",
    "    adv_comp_rate=('percentage_completed', lambda x: x[merged_progress_df['proficiency_level'] == 'Advanced'].mean()),\n",
    "    total_beg_courses=('courseId', lambda x: (merged_progress_df['proficiency_level'] == 'Beginner').sum()),\n",
    "    total_interm_courses=('courseId', lambda x: (merged_progress_df['proficiency_level'] == 'Intermediate').sum()),\n",
    "    total_adv_courses=('courseId', lambda x: (merged_progress_df['proficiency_level'] == 'Advanced').sum())\n",
    ").reset_index()\n",
    "\n"
   ]
  },
  {
   "cell_type": "code",
   "execution_count": 11,
   "metadata": {},
   "outputs": [],
   "source": [
    "fact_users_df = pd.merge(transformed_users_df, transformed_progress_df, left_on='user_id', right_on='userId', how='left')\n",
    "fact_users_df = pd.merge(fact_users_df, transformed_courses_df[['course_id', 'proficiency_level']], left_on='courseId', right_on='course_id', how='left')"
   ]
  },
  {
   "cell_type": "code",
   "execution_count": 13,
   "metadata": {},
   "outputs": [
    {
     "name": "stdout",
     "output_type": "stream",
     "text": [
      "Beginner Completion Rate DataFrame:\n",
      " Empty DataFrame\n",
      "Columns: [user_id, beginner_comp_rate]\n",
      "Index: []\n",
      "Intermediate Completion Rate DataFrame:\n",
      " Empty DataFrame\n",
      "Columns: [user_id, intermediate_comp_rate]\n",
      "Index: []\n",
      "Advanced Completion Rate DataFrame:\n",
      " Empty DataFrame\n",
      "Columns: [user_id, advanced_comp_rate]\n",
      "Index: []\n"
     ]
    }
   ],
   "source": [
    "from datetime import datetime\n",
    "\n",
    "# Function to calculate the completion rate in days for completed courses\n",
    "def calculate_completion_time(df, proficiency):\n",
    "    # Filter by proficiency level and completed courses\n",
    "    completed_courses = df[(df['proficiency_level'] == proficiency) & (df['percentage_completed'] == 100)]\n",
    "    \n",
    "    # Initialize a list to hold the completion times\n",
    "    completion_times = []\n",
    "\n",
    "    for user_id, group in completed_courses.groupby('user_id'):\n",
    "        # Get the start and end dates for the user's courses in this difficulty\n",
    "        start_dates = group[group['percentage_completed'] == 0][['updated_day', 'updated_month', 'updated_year']]\n",
    "        end_dates = group[['updated_day', 'updated_month', 'updated_year']]\n",
    "\n",
    "        # Check if there are completed courses\n",
    "        if not start_dates.empty and not end_dates.empty:\n",
    "            # Calculate the start date (first entry with 0%)\n",
    "            start_date = datetime(year=start_dates['updated_year'].values[0],\n",
    "                                  month=start_dates['updated_month'].values[0],\n",
    "                                  day=start_dates['updated_day'].values[0])\n",
    "            # Calculate the end date (first entry with 100%)\n",
    "            end_date = datetime(year=end_dates['updated_year'].values[0],\n",
    "                                month=end_dates['updated_month'].values[0],\n",
    "                                day=end_dates['updated_day'].values[0])\n",
    "            \n",
    "            # Calculate the number of days to complete\n",
    "            days_to_complete = (end_date - start_date).days\n",
    "            completion_times.append((user_id, days_to_complete))\n",
    "\n",
    "    # Create a DataFrame from the completion times\n",
    "    completion_df = pd.DataFrame(completion_times, columns=['user_id', f'{proficiency.lower()}_comp_rate'])\n",
    "    \n",
    "    return completion_df\n",
    "\n",
    "# Calculate completion rates for each proficiency level\n",
    "beg_comp_rate_df = calculate_completion_time(fact_users_df, 'Beginner')\n",
    "interm_comp_rate_df = calculate_completion_time(fact_users_df, 'Intermediate')\n",
    "adv_comp_rate_df = calculate_completion_time(fact_users_df, 'Advanced')\n",
    "\n",
    "# Print the completion rate DataFrames for debugging\n",
    "print(\"Beginner Completion Rate DataFrame:\\n\", beg_comp_rate_df.head())\n",
    "print(\"Intermediate Completion Rate DataFrame:\\n\", interm_comp_rate_df.head())\n",
    "print(\"Advanced Completion Rate DataFrame:\\n\", adv_comp_rate_df.head())\n",
    "\n",
    "# Merge the completion rate DataFrames back into fact_users_df\n",
    "fact_users_df = fact_users_df.merge(beg_comp_rate_df, on='user_id', how='left', suffixes=('', '_beg'))\n",
    "fact_users_df = fact_users_df.merge(interm_comp_rate_df, on='user_id', how='left', suffixes=('', '_interm'))\n",
    "fact_users_df = fact_users_df.merge(adv_comp_rate_df, on='user_id', how='left', suffixes=('', '_adv'))\n",
    "\n",
    "# Fill missing values with 0 for completion rates, using safe access\n",
    "if 'beg_comp_rate' in fact_users_df.columns:\n",
    "    fact_users_df['beg_comp_rate'] = fact_users_df['beg_comp_rate'].fillna(0)\n",
    "\n",
    "if 'interm_comp_rate' in fact_users_df.columns:\n",
    "    fact_users_df['interm_comp_rate'] = fact_users_df['interm_comp_rate'].fillna(0)\n",
    "\n",
    "if 'adv_comp_rate' in fact_users_df.columns:\n",
    "    fact_users_df['adv_comp_rate'] = fact_users_df['adv_comp_rate'].fillna(0)\n"
   ]
  },
  {
   "cell_type": "code",
   "execution_count": null,
   "metadata": {},
   "outputs": [],
   "source": []
  },
  {
   "cell_type": "code",
   "execution_count": null,
   "metadata": {},
   "outputs": [],
   "source": []
  },
  {
   "cell_type": "code",
   "execution_count": null,
   "metadata": {},
   "outputs": [],
   "source": []
  },
  {
   "cell_type": "code",
   "execution_count": 16,
   "metadata": {},
   "outputs": [
    {
     "name": "stdout",
     "output_type": "stream",
     "text": [
      "fact_users.csv created successfully created \n"
     ]
    }
   ],
   "source": [
    "# Save the final dimension table to CSV\n",
    "fact_users_df.to_csv('C:/Users/AnanyaSarkar/Documents/project/datascienceandengg/marts/fact/fact_users.csv', index=False)\n",
    "\n",
    "print(\"fact_users.csv created successfully created \")"
   ]
  }
 ],
 "metadata": {
  "kernelspec": {
   "display_name": "Python 3",
   "language": "python",
   "name": "python3"
  },
  "language_info": {
   "codemirror_mode": {
    "name": "ipython",
    "version": 3
   },
   "file_extension": ".py",
   "mimetype": "text/x-python",
   "name": "python",
   "nbconvert_exporter": "python",
   "pygments_lexer": "ipython3",
   "version": "3.12.5"
  }
 },
 "nbformat": 4,
 "nbformat_minor": 2
}
