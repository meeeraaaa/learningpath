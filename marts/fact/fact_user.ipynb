{
 "cells": [
  {
   "cell_type": "code",
   "execution_count": 12,
   "metadata": {},
   "outputs": [],
   "source": [
    "import pandas as pd"
   ]
  },
  {
   "cell_type": "code",
   "execution_count": 20,
   "metadata": {},
   "outputs": [
    {
     "name": "stdout",
     "output_type": "stream",
     "text": [
      "user_id                 int64\n",
      "user_name              object\n",
      "email                  object\n",
      "role                   object\n",
      "designation_id          int64\n",
      "sex                    object\n",
      "years_of_experience     int64\n",
      "join_date              object\n",
      "join_year               int64\n",
      "tenure                  int64\n",
      "join_month              int64\n",
      "join_day                int64\n",
      "dtype: object\n",
      "user_id                        int64\n",
      "title                         object\n",
      "proficiency_level             object\n",
      "chapters                       int64\n",
      "duration                     float64\n",
      "course_age                     int64\n",
      "duration_category             object\n",
      "proficiency_level_encoded      int64\n",
      "created_day                    int64\n",
      "created_month                  int64\n",
      "created_year                   int64\n",
      "dtype: object\n",
      "id        int64\n",
      "title    object\n",
      "dtype: object\n"
     ]
    }
   ],
   "source": [
    "\n",
    "transformed_users_file = 'C:/Users/AnanyaSarkar/Documents/project/datascienceandengg/.venv/staging/transformed/transformed_users.csv'\n",
    "designations_file = 'C:/Users/AnanyaSarkar/Documents/project/datascienceandengg/.venv/staging/raw/designations.csv'\n",
    "transformed_courses_file = 'C:/Users/AnanyaSarkar/Documents/project/datascienceandengg/.venv/staging/transformed/transformed_courses.csv'\n",
    "transformed_progress_file = 'C:/Users/AnanyaSarkar/Documents/project/datascienceandengg/.venv/staging/transformed/transformed_progress.csv'\n",
    "\n",
    "\n",
    "fact_users_file = 'C:/Users/AnanyaSarkar/Documents/project/datascienceandengg/.venv/mart/dimension/fact_users.csv'\n",
    "\n",
    "transformed_users_df = pd.read_csv(transformed_users_file)\n",
    "transformed_courses_df = pd.read_csv(transformed_courses_file)\n",
    "designations_df = pd.read_csv(designations_file)\n",
    "transformed_progress_df =  pd.read_csv(transformed_progress_file)\n",
    "\n",
    "#print(transformed_users_df.dtypes)\n",
    "#print(transformed_courses_df.dtypes)\n",
    "#print(designations_df.dtypes)\n",
    " #.replace({'m': 'M', 'f': 'F'})\n",
    " #beg_comp_rate avg rate at which the user has completed a beginner level courses.\n",
    "#interm_comp_rate avg rate at which the user has completed a intermediate level courses.\n",
    "#adv_comp_rate avg rate at which the user has completed a advanced level courses.\n",
    "#total beg courses completed by the user  Fill with 0 for users with no completed courses\n",
    "#total interm courses completed by the user \n",
    "#total advanced courses completed by the user \n",
    " #you can use any of the tranformed tables as well. \n",
    " #['active'] true or false given if they are in any courses currently, (less than 100percent completed )\n",
    " #['learning_speed'] based on if they have completed more than 50% of their assigned courses  quicker than duration of the course"
   ]
  },
  {
   "cell_type": "code",
   "execution_count": 27,
   "metadata": {},
   "outputs": [],
   "source": [
    "# Rename 'user_id' to 'course_id' if that’s the intended change\n",
    "transformed_courses_df.rename(columns={'user_id': 'course_id'}, inplace=True)\n"
   ]
  },
  {
   "cell_type": "code",
   "execution_count": 30,
   "metadata": {},
   "outputs": [],
   "source": [
    "\n",
    "transformed_progress_df.rename(columns={'id': 'progress_id'}, inplace=True)\n"
   ]
  },
  {
   "cell_type": "code",
   "execution_count": 21,
   "metadata": {},
   "outputs": [],
   "source": [
    "# set all employees role as employee and drop the role column,\n",
    "transformed_users_df['role'] = 'employee'\n",
    "transformed_users_df.drop(columns=['role'], inplace=True)"
   ]
  },
  {
   "cell_type": "code",
   "execution_count": 38,
   "metadata": {},
   "outputs": [],
   "source": [
    "merged_progress_df = pd.merge(transformed_progress_df, \n",
    "                               transformed_courses_df[['course_id', 'title', 'proficiency_level']], \n",
    "                               left_on='courseId', \n",
    "                               right_on='course_id', \n",
    "                               how='left')"
   ]
  },
  {
   "cell_type": "code",
   "execution_count": 39,
   "metadata": {},
   "outputs": [],
   "source": [
    "transformed_users_df['sex'] = transformed_users_df['sex'].replace({'m': 'M', 'f': 'F'})\n"
   ]
  },
  {
   "cell_type": "code",
   "execution_count": 41,
   "metadata": {},
   "outputs": [],
   "source": [
    "# avg completion rates\n",
    "completion_rates = merged_progress_df.groupby('userId').agg(\n",
    "    beg_comp_rate=('percentage_completed', lambda x: x[merged_progress_df['proficiency_level'] == 'Beginner'].mean()),\n",
    "    interm_comp_rate=('percentage_completed', lambda x: x[merged_progress_df['proficiency_level'] == 'Intermediate'].mean()),\n",
    "    adv_comp_rate=('percentage_completed', lambda x: x[merged_progress_df['proficiency_level'] == 'Advanced'].mean()),\n",
    "    total_beg_courses=('courseId', lambda x: (merged_progress_df['proficiency_level'] == 'Beginner').sum()),\n",
    "    total_interm_courses=('courseId', lambda x: (merged_progress_df['proficiency_level'] == 'Intermediate').sum()),\n",
    "    total_adv_courses=('courseId', lambda x: (merged_progress_df['proficiency_level'] == 'Advanced').sum())\n",
    ").reset_index()\n",
    "\n"
   ]
  },
  {
   "cell_type": "code",
   "execution_count": 43,
   "metadata": {},
   "outputs": [],
   "source": [
    "fact_users_df = pd.merge(transformed_users_df, transformed_progress_df, left_on='user_id', right_on='userId', how='left')\n",
    "fact_users_df = pd.merge(fact_users_df, transformed_courses_df[['course_id', 'proficiency_level']], left_on='courseId', right_on='course_id', how='left')"
   ]
  },
  {
   "cell_type": "code",
   "execution_count": null,
   "metadata": {},
   "outputs": [],
   "source": [
    "fact_users_df['beg_comp_rate'] = (\n",
    "    fact_users_df[fact_users_df['proficiency_level'] == 'Beginner']\n",
    "    .groupby('user_id')['updated_day']  \n",
    "    .mean()\n",
    ")\n",
    "\n",
    "fact_users_df['interm_comp_rate'] = (\n",
    "    fact_users_df[fact_users_df['proficiency_level'] == 'Intermediate']\n",
    "    .groupby('user_id')['updated_day']\n",
    "    .mean()\n",
    ")\n",
    "\n",
    "fact_users_df['adv_comp_rate'] = (\n",
    "    fact_users_df[fact_users_df['proficiency_level'] == 'Advanced']\n",
    "    .groupby('user_id')['updated_day']\n",
    "    .mean()\n",
    ")\n"
   ]
  },
  {
   "cell_type": "code",
   "execution_count": null,
   "metadata": {},
   "outputs": [],
   "source": [
    "# Save the final dimension table to CSV\n",
    "fact_users_df.to_csv('C:/Users/AnanyaSarkar/Documents/project/datascienceandengg/.venv/mart/dimension/fact_users.csv', index=False)\n",
    "\n",
    "print(\"fact_users.csv created successfully created \")"
   ]
  }
 ],
 "metadata": {
  "kernelspec": {
   "display_name": "Python 3",
   "language": "python",
   "name": "python3"
  },
  "language_info": {
   "codemirror_mode": {
    "name": "ipython",
    "version": 3
   },
   "file_extension": ".py",
   "mimetype": "text/x-python",
   "name": "python",
   "nbconvert_exporter": "python",
   "pygments_lexer": "ipython3",
   "version": "3.12.5"
  }
 },
 "nbformat": 4,
 "nbformat_minor": 2
}
