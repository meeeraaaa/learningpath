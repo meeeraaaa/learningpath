{
 "cells": [
  {
   "cell_type": "code",
   "execution_count": 1,
   "metadata": {},
   "outputs": [],
   "source": [
    "import pandas as pd\n",
    "\n",
    "# Load CSVs\n",
    "user_skills = pd.read_csv('C:/Users/AnanyaSarkar/Documents/project/datascienceandengg/staging/raw/user_skills.csv')\n",
    "skills = pd.read_csv('C:/Users/AnanyaSarkar/Documents/project/datascienceandengg/staging/raw/skills.csv')\n",
    "\n",
    "# Merge user skills with skill names\n",
    "mart_user_skills = user_skills.merge(skills, left_on='skillId', right_on='id')\n",
    "mart_user_skills = mart_user_skills[['userId', 'skillId', 'name', 'Proficiency_level']]\n",
    "\n",
    "# Save mart\n",
    "mart_user_skills.to_csv('C:/Users/AnanyaSarkar/Documents/project/datascienceandengg/marts/mart_user_skills.csv', index=False)\n"
   ]
  },
  {
   "cell_type": "code",
   "execution_count": 2,
   "metadata": {},
   "outputs": [],
   "source": [
    "# Load CSVs\n",
    "course_skills = pd.read_csv('C:/Users/AnanyaSarkar/Documents/project/datascienceandengg/staging/raw/course_skills.csv')\n",
    "transformed_courses = pd.read_csv('C:/Users/AnanyaSarkar/Documents/project/datascienceandengg/staging/transformed/transformed_courses.csv')\n",
    "\n",
    "# Merge course skills with skill names and proficiency levels\n",
    "mart_course_skills = course_skills.merge(skills, left_on='skillId', right_on='id')\n",
    "mart_course_skills = mart_course_skills.merge(transformed_courses, left_on='courseId', right_on='courseId')\n",
    "\n",
    "# Save mart\n",
    "mart_course_skills = mart_course_skills[['courseId', 'skillId', 'name', 'proficiency_level']]\n",
    "mart_course_skills.to_csv('C:/Users/AnanyaSarkar/Documents/project/datascienceandengg/marts/mart_course_skills.csv', index=False)\n"
   ]
  },
  {
   "cell_type": "code",
   "execution_count": 4,
   "metadata": {},
   "outputs": [],
   "source": [
    "# Load CSVs\n",
    "designations_skill = pd.read_csv('C:/Users/AnanyaSarkar/Documents/project/datascienceandengg/staging/raw/designations_skill.csv')\n",
    "designations = pd.read_csv('C:/Users/AnanyaSarkar/Documents/project/datascienceandengg/staging/raw/designations.csv')\n",
    "\n",
    "# Merge designation skills with skill names\n",
    "mart_designation_skills = designations_skill.merge(skills, left_on='skill_id', right_on='id')\n",
    "mart_designation_skills = mart_designation_skills.merge(designations, left_on='designation_id', right_on='id')\n",
    "\n",
    "# Save mart\n",
    "mart_designation_skills = mart_designation_skills[['designation_id', 'skill_id', 'name']]\n",
    "mart_designation_skills.to_csv('C:/Users/AnanyaSarkar/Documents/project/datascienceandengg/marts/mart_designation_skills.csv', index=False)\n"
   ]
  },
  {
   "cell_type": "code",
   "execution_count": 6,
   "metadata": {},
   "outputs": [],
   "source": [
    "# Load CSVs\n",
    "trans_prog = pd.read_csv('C:/Users/AnanyaSarkar/Documents/project/datascienceandengg/staging/transformed/transformed_progress.csv')\n",
    "transformed_courses = pd.read_csv('C:/Users/AnanyaSarkar/Documents/project/datascienceandengg/staging/transformed/transformed_courses.csv')\n",
    "\n",
    "# Filter out completed courses\n",
    "completed_courses = trans_prog[trans_prog['percentage_completed'] == 100]\n",
    "\n",
    "# Merge with course data to get course titles and proficiency levels\n",
    "mart_user_course_completion = completed_courses.merge(transformed_courses, on='courseId')\n",
    "\n",
    "# Save mart\n",
    "mart_user_course_completion = mart_user_course_completion[['userId', 'courseId', 'title', 'proficiency_level', 'updated_year', 'updated_month', 'updated_day']]\n",
    "mart_user_course_completion.to_csv('C:/Users/AnanyaSarkar/Documents/project/datascienceandengg/marts/mart_user_course_completion.csv', index=False)\n"
   ]
  },
  {
   "cell_type": "code",
   "execution_count": 7,
   "metadata": {},
   "outputs": [],
   "source": [
    "# Use the trans_prog dataframe (loaded earlier)\n",
    "\n",
    "# Filter out users who are still progressing\n",
    "mart_course_progress = trans_prog[trans_prog['percentage_completed'] < 100]\n",
    "\n",
    "# Save mart\n",
    "mart_course_progress = mart_course_progress[['userId', 'courseId', 'chapters_completed', 'percentage_completed', 'updated_year', 'updated_month', 'updated_day']]\n",
    "mart_course_progress.to_csv('C:/Users/AnanyaSarkar/Documents/project/datascienceandengg/marts/mart_course_progress.csv', index=False)\n"
   ]
  },
  {
   "cell_type": "code",
   "execution_count": 16,
   "metadata": {},
   "outputs": [
    {
     "name": "stdout",
     "output_type": "stream",
     "text": [
      "Index(['courseId', 'skillId', 'name', 'proficiency_level'], dtype='object')\n",
      "Index(['designation_id', 'skill_id', 'name'], dtype='object')\n"
     ]
    }
   ],
   "source": [
    "mart_designation_skills = pd.read_csv(r'C:/Users/AnanyaSarkar/Documents/project/datascienceandengg/marts/mart_designation_skills.csv')\n",
    "mart_course_skills = pd.read_csv(r'C:/Users/AnanyaSarkar/Documents/project/datascienceandengg/marts/mart_course_skills.csv')\n",
    "print(mart_course_skills.columns)\n",
    "print(mart_designation_skills.columns)"
   ]
  },
  {
   "cell_type": "code",
   "execution_count": 17,
   "metadata": {},
   "outputs": [],
   "source": [
    "# Load the CSV files\n",
    "mart_designation_skills = pd.read_csv(r'C:/Users/AnanyaSarkar/Documents/project/datascienceandengg/marts/mart_designation_skills.csv')\n",
    "mart_course_skills = pd.read_csv(r'C:/Users/AnanyaSarkar/Documents/project/datascienceandengg/marts/mart_course_skills.csv')\n",
    "\n",
    "# Rename 'name' columns to avoid conflict\n",
    "mart_designation_skills.rename(columns={'name': 'designation_skill_name'}, inplace=True)\n",
    "mart_course_skills.rename(columns={'name': 'course_skill_name'}, inplace=True)\n",
    "\n",
    "# Merge designation skills with course skills to find matching skills\n",
    "designation_course_mapping = mart_designation_skills.merge(mart_course_skills, left_on='skill_id', right_on='skillId')\n",
    "\n",
    "# Save mart, only selecting relevant columns (keeping course_skill_name and designation_skill_name separately if needed)\n",
    "designation_course_mapping = designation_course_mapping[['designation_id', 'courseId', 'course_skill_name', 'proficiency_level']]\n",
    "\n",
    "# Save to CSV\n",
    "designation_course_mapping.to_csv('C:/Users/AnanyaSarkar/Documents/project/datascienceandengg/marts/mart_designation_course_mapping.csv', index=False)\n"
   ]
  },
  {
   "cell_type": "code",
   "execution_count": null,
   "metadata": {},
   "outputs": [],
   "source": []
  }
 ],
 "metadata": {
  "kernelspec": {
   "display_name": "Python 3",
   "language": "python",
   "name": "python3"
  },
  "language_info": {
   "codemirror_mode": {
    "name": "ipython",
    "version": 3
   },
   "file_extension": ".py",
   "mimetype": "text/x-python",
   "name": "python",
   "nbconvert_exporter": "python",
   "pygments_lexer": "ipython3",
   "version": "3.12.5"
  }
 },
 "nbformat": 4,
 "nbformat_minor": 2
}
