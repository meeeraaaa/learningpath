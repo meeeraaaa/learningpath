{
 "cells": [
  {
   "cell_type": "code",
   "execution_count": 1,
   "metadata": {},
   "outputs": [
    {
     "name": "stdout",
     "output_type": "stream",
     "text": [
      "mart_course_completion.csv has been created successfully!\n"
     ]
    }
   ],
   "source": [
    "import pandas as pd\n",
    "from tqdm import tqdm\n",
    "\n",
    "# Load the fact_course_progress DataFrame\n",
    "fact_course_progress_df = pd.read_csv(r\"C:\\Users\\AnanyaSarkar\\Documents\\project\\datascienceandengg\\staging\\fact_course_progress.csv\")\n",
    "\n",
    "# Group by courseId to summarize course completion metrics\n",
    "report_df = fact_course_progress_df.groupby('courseId').agg(\n",
    "    title=('title', 'first'),\n",
    "    proficiency_level=('proficiency_level', 'first'),\n",
    "    duration=('duration', 'first'),\n",
    "    total_chapters=('total_chapters', 'first'),\n",
    "    total_users_enrolled=('total_users_completed', 'sum'),  # Total users who attempted the course\n",
    "    total_users_completed=('total_users_completed', 'sum'),  # Total who completed\n",
    "    completion_rate=('completion_rate', 'mean'),  # Average completion rate across users\n",
    "    average_days_to_complete=('average_days_to_complete', 'mean'),  # Average days taken to complete\n",
    "    median_completion_time=('median_completion_time', 'median'),  # Median time to complete\n",
    "    total_users_with_certificate=('total_users_with_certificate', 'sum'),  # Total with certificates\n",
    "    last_update_date=('last_update_date', 'max')  # Last date of progress update\n",
    ").reset_index()\n",
    "\n",
    "# Calculate certificate rate\n",
    "report_df['certificate_rate'] = report_df['total_users_with_certificate'] / report_df['total_users_completed'].replace(0, pd.NA)\n",
    "\n",
    "# Fill NaN values for better reporting\n",
    "report_df.fillna(0, inplace=True)\n",
    "\n",
    "# Save the report DataFrame to a CSV file\n",
    "report_df.to_csv(r\"C:/Users/AnanyaSarkar/Documents/project/datascienceandengg/staging/mart_course_completion.csv\", index=False)\n",
    "\n",
    "print(\"mart_course_completion.csv has been created successfully!\")\n"
   ]
  },
  {
   "cell_type": "code",
   "execution_count": null,
   "metadata": {},
   "outputs": [],
   "source": []
  }
 ],
 "metadata": {
  "kernelspec": {
   "display_name": "Python 3",
   "language": "python",
   "name": "python3"
  },
  "language_info": {
   "codemirror_mode": {
    "name": "ipython",
    "version": 3
   },
   "file_extension": ".py",
   "mimetype": "text/x-python",
   "name": "python",
   "nbconvert_exporter": "python",
   "pygments_lexer": "ipython3",
   "version": "3.12.5"
  }
 },
 "nbformat": 4,
 "nbformat_minor": 2
}
