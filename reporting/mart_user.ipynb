{
 "cells": [
  {
   "cell_type": "code",
   "execution_count": 6,
   "metadata": {},
   "outputs": [
    {
     "ename": "KeyError",
     "evalue": "'Column not found: skill'",
     "output_type": "error",
     "traceback": [
      "\u001b[1;31m---------------------------------------------------------------------------\u001b[0m",
      "\u001b[1;31mKeyError\u001b[0m                                  Traceback (most recent call last)",
      "Cell \u001b[1;32mIn[6], line 26\u001b[0m\n\u001b[0;32m      9\u001b[0m designation_skills_df \u001b[38;5;241m=\u001b[39m pd\u001b[38;5;241m.\u001b[39mDataFrame({\n\u001b[0;32m     10\u001b[0m     \u001b[38;5;124m'\u001b[39m\u001b[38;5;124mdesignation\u001b[39m\u001b[38;5;124m'\u001b[39m: [\u001b[38;5;124m'\u001b[39m\u001b[38;5;124mSDE\u001b[39m\u001b[38;5;124m'\u001b[39m, \u001b[38;5;124m'\u001b[39m\u001b[38;5;124mSDE Sr\u001b[39m\u001b[38;5;124m'\u001b[39m, \u001b[38;5;124m'\u001b[39m\u001b[38;5;124mSolutions Enabler\u001b[39m\u001b[38;5;124m'\u001b[39m, \u001b[38;5;124m'\u001b[39m\u001b[38;5;124mConsultant\u001b[39m\u001b[38;5;124m'\u001b[39m, \u001b[38;5;124m'\u001b[39m\u001b[38;5;124mSolutions Architect\u001b[39m\u001b[38;5;124m'\u001b[39m, \u001b[38;5;124m'\u001b[39m\u001b[38;5;124mPrincipal Architect\u001b[39m\u001b[38;5;124m'\u001b[39m, \u001b[38;5;124m'\u001b[39m\u001b[38;5;124mIT\u001b[39m\u001b[38;5;124m'\u001b[39m, \u001b[38;5;124m'\u001b[39m\u001b[38;5;124mFinance\u001b[39m\u001b[38;5;124m'\u001b[39m, \u001b[38;5;124m'\u001b[39m\u001b[38;5;124mAccounting\u001b[39m\u001b[38;5;124m'\u001b[39m, \u001b[38;5;124m'\u001b[39m\u001b[38;5;124mHR\u001b[39m\u001b[38;5;124m'\u001b[39m],\n\u001b[0;32m     11\u001b[0m     \u001b[38;5;124m'\u001b[39m\u001b[38;5;124mrequired_skills\u001b[39m\u001b[38;5;124m'\u001b[39m: [\n\u001b[1;32m   (...)\u001b[0m\n\u001b[0;32m     22\u001b[0m     ]\n\u001b[0;32m     23\u001b[0m })\n\u001b[0;32m     25\u001b[0m \u001b[38;5;66;03m# Merge user skills and completed courses\u001b[39;00m\n\u001b[1;32m---> 26\u001b[0m user_skills_grouped \u001b[38;5;241m=\u001b[39m \u001b[43muser_skills_df\u001b[49m\u001b[38;5;241;43m.\u001b[39;49m\u001b[43mgroupby\u001b[49m\u001b[43m(\u001b[49m\u001b[38;5;124;43m'\u001b[39;49m\u001b[38;5;124;43muserId\u001b[39;49m\u001b[38;5;124;43m'\u001b[39;49m\u001b[43m)\u001b[49m\u001b[43m[\u001b[49m\u001b[38;5;124;43m'\u001b[39;49m\u001b[38;5;124;43mskill\u001b[39;49m\u001b[38;5;124;43m'\u001b[39;49m\u001b[43m]\u001b[49m\u001b[38;5;241m.\u001b[39mapply(\u001b[38;5;28;01mlambda\u001b[39;00m x: \u001b[38;5;124m'\u001b[39m\u001b[38;5;124m, \u001b[39m\u001b[38;5;124m'\u001b[39m\u001b[38;5;241m.\u001b[39mjoin(x))\u001b[38;5;241m.\u001b[39mreset_index()\n\u001b[0;32m     27\u001b[0m completed_courses_grouped \u001b[38;5;241m=\u001b[39m completed_courses_df\u001b[38;5;241m.\u001b[39mgroupby(\u001b[38;5;124m'\u001b[39m\u001b[38;5;124muserId\u001b[39m\u001b[38;5;124m'\u001b[39m)[\u001b[38;5;124m'\u001b[39m\u001b[38;5;124mcourseId\u001b[39m\u001b[38;5;124m'\u001b[39m]\u001b[38;5;241m.\u001b[39mapply(\u001b[38;5;28;01mlambda\u001b[39;00m x: \u001b[38;5;124m'\u001b[39m\u001b[38;5;124m, \u001b[39m\u001b[38;5;124m'\u001b[39m\u001b[38;5;241m.\u001b[39mjoin(x))\u001b[38;5;241m.\u001b[39mreset_index()\n\u001b[0;32m     29\u001b[0m \u001b[38;5;66;03m# Merge with designations and required skills\u001b[39;00m\n",
      "File \u001b[1;32mc:\\Users\\AnanyaSarkar\\AppData\\Local\\Programs\\Python\\Python312\\Lib\\site-packages\\pandas\\core\\groupby\\generic.py:1951\u001b[0m, in \u001b[0;36mDataFrameGroupBy.__getitem__\u001b[1;34m(self, key)\u001b[0m\n\u001b[0;32m   1944\u001b[0m \u001b[38;5;28;01mif\u001b[39;00m \u001b[38;5;28misinstance\u001b[39m(key, \u001b[38;5;28mtuple\u001b[39m) \u001b[38;5;129;01mand\u001b[39;00m \u001b[38;5;28mlen\u001b[39m(key) \u001b[38;5;241m>\u001b[39m \u001b[38;5;241m1\u001b[39m:\n\u001b[0;32m   1945\u001b[0m     \u001b[38;5;66;03m# if len == 1, then it becomes a SeriesGroupBy and this is actually\u001b[39;00m\n\u001b[0;32m   1946\u001b[0m     \u001b[38;5;66;03m# valid syntax, so don't raise\u001b[39;00m\n\u001b[0;32m   1947\u001b[0m     \u001b[38;5;28;01mraise\u001b[39;00m \u001b[38;5;167;01mValueError\u001b[39;00m(\n\u001b[0;32m   1948\u001b[0m         \u001b[38;5;124m\"\u001b[39m\u001b[38;5;124mCannot subset columns with a tuple with more than one element. \u001b[39m\u001b[38;5;124m\"\u001b[39m\n\u001b[0;32m   1949\u001b[0m         \u001b[38;5;124m\"\u001b[39m\u001b[38;5;124mUse a list instead.\u001b[39m\u001b[38;5;124m\"\u001b[39m\n\u001b[0;32m   1950\u001b[0m     )\n\u001b[1;32m-> 1951\u001b[0m \u001b[38;5;28;01mreturn\u001b[39;00m \u001b[38;5;28;43msuper\u001b[39;49m\u001b[43m(\u001b[49m\u001b[43m)\u001b[49m\u001b[38;5;241;43m.\u001b[39;49m\u001b[38;5;21;43m__getitem__\u001b[39;49m\u001b[43m(\u001b[49m\u001b[43mkey\u001b[49m\u001b[43m)\u001b[49m\n",
      "File \u001b[1;32mc:\\Users\\AnanyaSarkar\\AppData\\Local\\Programs\\Python\\Python312\\Lib\\site-packages\\pandas\\core\\base.py:244\u001b[0m, in \u001b[0;36mSelectionMixin.__getitem__\u001b[1;34m(self, key)\u001b[0m\n\u001b[0;32m    242\u001b[0m \u001b[38;5;28;01melse\u001b[39;00m:\n\u001b[0;32m    243\u001b[0m     \u001b[38;5;28;01mif\u001b[39;00m key \u001b[38;5;129;01mnot\u001b[39;00m \u001b[38;5;129;01min\u001b[39;00m \u001b[38;5;28mself\u001b[39m\u001b[38;5;241m.\u001b[39mobj:\n\u001b[1;32m--> 244\u001b[0m         \u001b[38;5;28;01mraise\u001b[39;00m \u001b[38;5;167;01mKeyError\u001b[39;00m(\u001b[38;5;124mf\u001b[39m\u001b[38;5;124m\"\u001b[39m\u001b[38;5;124mColumn not found: \u001b[39m\u001b[38;5;132;01m{\u001b[39;00mkey\u001b[38;5;132;01m}\u001b[39;00m\u001b[38;5;124m\"\u001b[39m)\n\u001b[0;32m    245\u001b[0m     ndim \u001b[38;5;241m=\u001b[39m \u001b[38;5;28mself\u001b[39m\u001b[38;5;241m.\u001b[39mobj[key]\u001b[38;5;241m.\u001b[39mndim\n\u001b[0;32m    246\u001b[0m     \u001b[38;5;28;01mreturn\u001b[39;00m \u001b[38;5;28mself\u001b[39m\u001b[38;5;241m.\u001b[39m_gotitem(key, ndim\u001b[38;5;241m=\u001b[39mndim)\n",
      "\u001b[1;31mKeyError\u001b[0m: 'Column not found: skill'"
     ]
    }
   ],
   "source": [
    "import pandas as pd\n",
    "\n",
    "# Load data\n",
    "user_skills_df = pd.read_csv(r'C:/Users/AnanyaSarkar/Documents/project/datascienceandengg/staging/raw/user_skills.csv')\n",
    "completed_courses_df = pd.read_csv(r'C:/Users/AnanyaSarkar/Documents/project/datascienceandengg/staging/transformed/transformed_progress.csv')\n",
    "courses_df = pd.read_csv(r'C:/Users/AnanyaSarkar/Documents/project/datascienceandengg/staging/transformed/transformed_courses.csv')\n",
    "\n",
    "# Assume you have a DataFrame for designations and required skills\n",
    "designation_skills_df = pd.DataFrame({\n",
    "    'designation': ['SDE', 'SDE Sr', 'Solutions Enabler', 'Consultant', 'Solutions Architect', 'Principal Architect', 'IT', 'Finance', 'Accounting', 'HR'],\n",
    "    'required_skills': [\n",
    "        'Java, SQL', \n",
    "        'Java, Python', \n",
    "        'Django, Java', \n",
    "        'Agile Methodologies, Data Analysis', \n",
    "        'Cloud Computing, Solutions', \n",
    "        'Cybersecurity, IT Strategy', \n",
    "        'Data Analysis, SQL', \n",
    "        'Finance, Accounting', \n",
    "        'Accounting Principles', \n",
    "        'Employee Relations, Performance Management'\n",
    "    ]\n",
    "})\n",
    "\n",
    "# Merge user skills and completed courses\n",
    "user_skills_grouped = user_skills_df.groupby('userId')['skill'].apply(lambda x: ', '.join(x)).reset_index()\n",
    "completed_courses_grouped = completed_courses_df.groupby('userId')['courseId'].apply(lambda x: ', '.join(x)).reset_index()\n",
    "\n",
    "# Merge with designations and required skills\n",
    "mart_user_skill_df = user_skills_grouped.merge(completed_courses_grouped, on='userId', how='left') \\\n",
    "    .merge(designation_skills_df, on='designation', how='left')\n",
    "\n",
    "# Add proficiency levels and last completed course details\n",
    "last_completed_courses = completed_courses_df.loc[completed_courses_df['percentage_completed'] == 100].copy()\n",
    "last_completed_courses['completion_date'] = pd.to_datetime(last_completed_courses[['updated_year', 'updated_month', 'updated_day']].astype(str).agg('-'.join, axis=1))\n",
    "last_completed_courses = last_completed_courses.groupby('userId').agg(\n",
    "    last_completed_course=('courseId', 'first'),\n",
    "    last_course_completion_date=('completion_date', 'first')\n",
    ").reset_index()\n",
    "\n",
    "mart_user_skill_df = mart_user_skill_df.merge(last_completed_courses, on='userId', how='left')\n",
    "\n",
    "# Example skill gap calculation (placeholder logic)\n",
    "mart_user_skill_df['skill_gap'] = mart_user_skill_df.apply(lambda x: ', '.join(set(x['required_skills'].split(', ')) - set(x['user_skills'].split(', '))), axis=1)\n",
    "\n",
    "# Add a placeholder for recommended courses (this should be replaced with actual recommendation logic)\n",
    "mart_user_skill_df['recommended_courses'] = \"Sample Course Recommendation Logic Here\"\n",
    "\n",
    "# Save the Data Mart\n",
    "mart_user_skill_df.to_csv('reporting/mart_user_skill.csv', index=False)\n"
   ]
  },
  {
   "cell_type": "code",
   "execution_count": null,
   "metadata": {},
   "outputs": [],
   "source": []
  }
 ],
 "metadata": {
  "kernelspec": {
   "display_name": "Python 3",
   "language": "python",
   "name": "python3"
  },
  "language_info": {
   "codemirror_mode": {
    "name": "ipython",
    "version": 3
   },
   "file_extension": ".py",
   "mimetype": "text/x-python",
   "name": "python",
   "nbconvert_exporter": "python",
   "pygments_lexer": "ipython3",
   "version": "3.12.5"
  }
 },
 "nbformat": 4,
 "nbformat_minor": 2
}
