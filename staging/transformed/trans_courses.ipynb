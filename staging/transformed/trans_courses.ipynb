{
 "cells": [
  {
   "cell_type": "code",
   "execution_count": 1,
   "metadata": {},
   "outputs": [],
   "source": [
    "import pandas as pd\n",
    "raw_courses_file = 'C:/Users/AnanyaSarkar/Documents/project/datascienceandengg/.venv/staging/raw/courses.csv'\n",
    "transformed_courses_file = 'C:/Users/AnanyaSarkar/Documents/project/datascienceandengg/.venv/staging/transformed/transformed_courses.csv'"
   ]
  },
  {
   "cell_type": "code",
   "execution_count": 3,
   "metadata": {},
   "outputs": [],
   "source": [
    "courses_df = pd.read_csv(raw_courses_file)"
   ]
  },
  {
   "cell_type": "code",
   "execution_count": 4,
   "metadata": {},
   "outputs": [
    {
     "name": "stdout",
     "output_type": "stream",
     "text": [
      "id                     int64\n",
      "title                 object\n",
      "proficiency_level     object\n",
      "no_of_chapters         int64\n",
      "duration             float64\n",
      "createdAt             object\n",
      "dtype: object\n"
     ]
    }
   ],
   "source": [
    "print(courses_df.dtypes)"
   ]
  },
  {
   "cell_type": "code",
   "execution_count": 5,
   "metadata": {},
   "outputs": [],
   "source": [
    "#Transforamtions\n",
    "#  'createdAt' to datetime\n",
    "courses_df['createdAt'] = pd.to_datetime(courses_df['createdAt'], errors='coerce')"
   ]
  },
  {
   "cell_type": "code",
   "execution_count": 6,
   "metadata": {},
   "outputs": [
    {
     "name": "stdout",
     "output_type": "stream",
     "text": [
      "id                            int64\n",
      "title                        object\n",
      "proficiency_level            object\n",
      "no_of_chapters                int64\n",
      "duration                    float64\n",
      "createdAt            datetime64[ns]\n",
      "dtype: object\n"
     ]
    }
   ],
   "source": [
    "print(courses_df.dtypes)"
   ]
  },
  {
   "cell_type": "code",
   "execution_count": 7,
   "metadata": {},
   "outputs": [],
   "source": [
    "courses_df['course_age'] = (pd.to_datetime('today') - courses_df['createdAt']).dt.days"
   ]
  },
  {
   "cell_type": "code",
   "execution_count": 8,
   "metadata": {},
   "outputs": [],
   "source": [
    "if courses_df['createdAt'].isna().any():\n",
    "    print(\"There are missing dates in the 'createdAt' column.\")\n"
   ]
  },
  {
   "cell_type": "code",
   "execution_count": 9,
   "metadata": {},
   "outputs": [],
   "source": [
    "def categorize_duration(duration):\n",
    "    if duration < 3:\n",
    "        return 'Short'\n",
    "    elif 3 <= duration <= 7:\n",
    "        return 'Medium'\n",
    "    else:\n",
    "        return 'Long'\n",
    "\n",
    "courses_df['duration_category'] = courses_df['duration'].apply(categorize_duration)\n"
   ]
  },
  {
   "cell_type": "code",
   "execution_count": 10,
   "metadata": {},
   "outputs": [],
   "source": [
    "proficiency_mapping = {'Beginner': 1, 'Intermediate': 2, 'Advanced': 3}\n",
    "courses_df['proficiency_level_encoded'] = courses_df['proficiency_level'].map(proficiency_mapping)"
   ]
  },
  {
   "cell_type": "code",
   "execution_count": null,
   "metadata": {},
   "outputs": [],
   "source": [
    "#average_duration_by_proficiency = courses_df.groupby('proficiency_level')['duration'].mean().reset_index()\n"
   ]
  },
  {
   "cell_type": "code",
   "execution_count": 11,
   "metadata": {},
   "outputs": [
    {
     "name": "stdout",
     "output_type": "stream",
     "text": [
      "    id                                              title           createdAt  \\\n",
      "0    1                        Java Programming Essentials 2020-11-26 13:56:58   \n",
      "1    2      Mastering Java Swing for Desktop Applications 2021-10-09 16:48:40   \n",
      "2    3                            SQL for Data Management 2020-03-07 18:05:38   \n",
      "3    4                        C Programming for Beginners 2021-11-18 21:42:27   \n",
      "4    5                             Advanced C# Techniques 2021-01-08 22:43:58   \n",
      "5    6                           C++ for Game Development 2023-04-14 13:11:12   \n",
      "6    7                          Go: A Comprehensive Guide 2023-01-30 13:46:36   \n",
      "7    8              Building Web Applications with Django 2020-11-14 08:05:45   \n",
      "8    9                     HTML & CSS: The Complete Guide 2021-02-21 07:21:28   \n",
      "9   10                            JavaScript Fundamentals 2023-03-13 20:00:45   \n",
      "10  11          Node.js for Scalable Network Applications 2020-08-24 15:06:37   \n",
      "11  12           Next.js: Server-Side Rendering Made Easy 2024-09-29 21:21:53   \n",
      "12  13                  TypeScript for Large Applications 2020-05-07 04:09:11   \n",
      "13  14                           Python for Data Analysis 2020-09-16 15:55:09   \n",
      "14  15  DevOps Fundamentals: Continuous Integration & ... 2023-12-16 08:08:45   \n",
      "15  16                       Machine Learning with Python 2021-04-24 01:38:32   \n",
      "16  17     Data Analysis Techniques for Business Insights 2021-12-06 11:02:39   \n",
      "17  18            DBT: Transforming Data in the Warehouse 2023-07-26 23:10:36   \n",
      "18  19             Snowflake Essentials: Data Warehousing 2021-06-26 15:16:59   \n",
      "19  20                           Azure Cloud Fundamentals 2024-07-26 02:42:01   \n",
      "20  21                    Power BI for Data Visualization 2021-11-09 03:41:03   \n",
      "21  22             Data Structures and Algorithms in Java 2024-07-06 04:53:15   \n",
      "22  23              Cloud Security: Best Practices for IT 2022-09-16 20:12:39   \n",
      "23  24     HR Analytics: Leveraging Data for HR Decisions 2022-05-25 03:17:25   \n",
      "24  25                 IT Project Management Fundamentals 2023-11-25 11:49:18   \n",
      "25  26                  Agile Methodologies for HR and IT 2020-06-21 14:35:42   \n",
      "26  27      Cybersecurity Essentials for IT Professionals 2023-01-13 15:47:38   \n",
      "27  28                      Effective Communication in HR 2020-12-28 04:51:17   \n",
      "28  29    Talent Management Strategies in the Digital Age 2024-04-22 16:46:51   \n",
      "29  30               Building a Diverse Workplace Culture 2023-12-24 22:19:27   \n",
      "\n",
      "    created_day  created_month  created_year  \n",
      "0            26             11          2020  \n",
      "1             9             10          2021  \n",
      "2             7              3          2020  \n",
      "3            18             11          2021  \n",
      "4             8              1          2021  \n",
      "5            14              4          2023  \n",
      "6            30              1          2023  \n",
      "7            14             11          2020  \n",
      "8            21              2          2021  \n",
      "9            13              3          2023  \n",
      "10           24              8          2020  \n",
      "11           29              9          2024  \n",
      "12            7              5          2020  \n",
      "13           16              9          2020  \n",
      "14           16             12          2023  \n",
      "15           24              4          2021  \n",
      "16            6             12          2021  \n",
      "17           26              7          2023  \n",
      "18           26              6          2021  \n",
      "19           26              7          2024  \n",
      "20            9             11          2021  \n",
      "21            6              7          2024  \n",
      "22           16              9          2022  \n",
      "23           25              5          2022  \n",
      "24           25             11          2023  \n",
      "25           21              6          2020  \n",
      "26           13              1          2023  \n",
      "27           28             12          2020  \n",
      "28           22              4          2024  \n",
      "29           24             12          2023  \n"
     ]
    }
   ],
   "source": [
    "# Ensure createdAt is in datetime format\n",
    "courses_df['createdAt'] = pd.to_datetime(courses_df['createdAt'], errors='coerce')\n",
    "\n",
    "# Segregate 'createdAt' into day, month and year\n",
    "courses_df['created_day'] = courses_df['createdAt'].dt.day\n",
    "courses_df['created_month'] = courses_df['createdAt'].dt.month\n",
    "courses_df['created_year'] = courses_df['createdAt'].dt.year\n",
    "\n"
   ]
  },
  {
   "cell_type": "code",
   "execution_count": 12,
   "metadata": {},
   "outputs": [],
   "source": [
    "courses_df = courses_df.drop(columns=['createdAt'])\n"
   ]
  },
  {
   "cell_type": "code",
   "execution_count": 13,
   "metadata": {},
   "outputs": [],
   "source": [
    "\n",
    "# rename \n",
    "courses_df.rename(columns={\n",
    "    'id': 'user_id',\n",
    "    'no_of_chapters': 'chapters'\n",
    "}, inplace=True)\n"
   ]
  },
  {
   "cell_type": "code",
   "execution_count": 14,
   "metadata": {},
   "outputs": [
    {
     "name": "stdout",
     "output_type": "stream",
     "text": [
      "\n",
      "Transformed users data saved to: C:/Users/AnanyaSarkar/Documents/project/datascienceandengg/.venv/staging/transformed/transformed_courses.csv\n"
     ]
    }
   ],
   "source": [
    "transformed_courses_df = courses_df\n",
    "transformed_courses_df.to_csv(transformed_courses_file, index=False)\n",
    "print(f\"\\nTransformed users data saved to: {transformed_courses_file}\")\n"
   ]
  }
 ],
 "metadata": {
  "kernelspec": {
   "display_name": "Python 3",
   "language": "python",
   "name": "python3"
  },
  "language_info": {
   "codemirror_mode": {
    "name": "ipython",
    "version": 3
   },
   "file_extension": ".py",
   "mimetype": "text/x-python",
   "name": "python",
   "nbconvert_exporter": "python",
   "pygments_lexer": "ipython3",
   "version": "3.12.5"
  }
 },
 "nbformat": 4,
 "nbformat_minor": 2
}
