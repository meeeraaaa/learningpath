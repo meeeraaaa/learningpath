{
 "cells": [
  {
   "cell_type": "code",
   "execution_count": 3,
   "metadata": {},
   "outputs": [],
   "source": [
    "import pandas as pd\n",
    "raw_courses_file = 'C:/Users/AnanyaSarkar/Documents/project/datascienceandengg/staging/raw/courses.csv'\n",
    "transformed_courses_file = 'C:/Users/AnanyaSarkar/Documents/project/datascienceandengg/staging/transformed/transformed_courses.csv'"
   ]
  },
  {
   "cell_type": "code",
   "execution_count": 4,
   "metadata": {},
   "outputs": [],
   "source": [
    "courses_df = pd.read_csv(raw_courses_file)"
   ]
  },
  {
   "cell_type": "code",
   "execution_count": 5,
   "metadata": {},
   "outputs": [
    {
     "name": "stdout",
     "output_type": "stream",
     "text": [
      "id                    int64\n",
      "title                object\n",
      "proficiency_level    object\n",
      "no_of_chapters        int64\n",
      "duration              int64\n",
      "createdAt            object\n",
      "dtype: object\n"
     ]
    }
   ],
   "source": [
    "print(courses_df.dtypes)"
   ]
  },
  {
   "cell_type": "code",
   "execution_count": 6,
   "metadata": {},
   "outputs": [],
   "source": [
    "#Transforamtions\n",
    "#  'createdAt' to datetime\n",
    "courses_df['createdAt'] = pd.to_datetime(courses_df['createdAt'], errors='coerce')"
   ]
  },
  {
   "cell_type": "code",
   "execution_count": 7,
   "metadata": {},
   "outputs": [
    {
     "name": "stdout",
     "output_type": "stream",
     "text": [
      "id                            int64\n",
      "title                        object\n",
      "proficiency_level            object\n",
      "no_of_chapters                int64\n",
      "duration                      int64\n",
      "createdAt            datetime64[ns]\n",
      "dtype: object\n"
     ]
    }
   ],
   "source": [
    "print(courses_df.dtypes)"
   ]
  },
  {
   "cell_type": "code",
   "execution_count": 8,
   "metadata": {},
   "outputs": [],
   "source": [
    "courses_df['course_age'] = (pd.to_datetime('today') - courses_df['createdAt']).dt.days"
   ]
  },
  {
   "cell_type": "code",
   "execution_count": 9,
   "metadata": {},
   "outputs": [],
   "source": [
    "if courses_df['createdAt'].isna().any():\n",
    "    print(\"There are missing dates in the 'createdAt' column.\")\n"
   ]
  },
  {
   "cell_type": "code",
   "execution_count": 10,
   "metadata": {},
   "outputs": [],
   "source": [
    "def categorize_duration(duration):\n",
    "    if duration < 3:\n",
    "        return 'Short'\n",
    "    elif 3 <= duration <= 7:\n",
    "        return 'Medium'\n",
    "    else:\n",
    "        return 'Long'\n",
    "\n",
    "courses_df['duration_category'] = courses_df['duration'].apply(categorize_duration)\n"
   ]
  },
  {
   "cell_type": "code",
   "execution_count": 11,
   "metadata": {},
   "outputs": [],
   "source": [
    "proficiency_mapping = {'Beginner': 1, 'Intermediate': 2, 'Advanced': 3}\n",
    "courses_df['proficiency_level_encoded'] = courses_df['proficiency_level'].map(proficiency_mapping)"
   ]
  },
  {
   "cell_type": "code",
   "execution_count": 12,
   "metadata": {},
   "outputs": [],
   "source": [
    "#average_duration_by_proficiency = courses_df.groupby('proficiency_level')['duration'].mean().reset_index()\n"
   ]
  },
  {
   "cell_type": "code",
   "execution_count": 13,
   "metadata": {},
   "outputs": [],
   "source": [
    "# Ensure createdAt is in datetime format\n",
    "courses_df['createdAt'] = pd.to_datetime(courses_df['createdAt'], errors='coerce')\n",
    "\n",
    "# Segregate 'createdAt' into day, month and year\n",
    "courses_df['created_day'] = courses_df['createdAt'].dt.day\n",
    "courses_df['created_month'] = courses_df['createdAt'].dt.month\n",
    "courses_df['created_year'] = courses_df['createdAt'].dt.year\n",
    "\n"
   ]
  },
  {
   "cell_type": "code",
   "execution_count": 14,
   "metadata": {},
   "outputs": [],
   "source": [
    "courses_df = courses_df.drop(columns=['createdAt'])\n"
   ]
  },
  {
   "cell_type": "code",
   "execution_count": 15,
   "metadata": {},
   "outputs": [],
   "source": [
    "\n",
    "# rename \n",
    "courses_df.rename(columns={\n",
    "    'id': 'user_id',\n",
    "    'no_of_chapters': 'chapters'\n",
    "}, inplace=True)\n"
   ]
  },
  {
   "cell_type": "code",
   "execution_count": 16,
   "metadata": {},
   "outputs": [
    {
     "name": "stdout",
     "output_type": "stream",
     "text": [
      "\n",
      "Transformed users data saved to: C:/Users/AnanyaSarkar/Documents/project/datascienceandengg/staging/transformed/transformed_courses.csv\n"
     ]
    }
   ],
   "source": [
    "transformed_courses_df = courses_df\n",
    "transformed_courses_df.to_csv(transformed_courses_file, index=False)\n",
    "print(f\"\\nTransformed users data saved to: {transformed_courses_file}\")\n"
   ]
  }
 ],
 "metadata": {
  "kernelspec": {
   "display_name": "Python 3",
   "language": "python",
   "name": "python3"
  },
  "language_info": {
   "codemirror_mode": {
    "name": "ipython",
    "version": 3
   },
   "file_extension": ".py",
   "mimetype": "text/x-python",
   "name": "python",
   "nbconvert_exporter": "python",
   "pygments_lexer": "ipython3",
   "version": "3.12.5"
  }
 },
 "nbformat": 4,
 "nbformat_minor": 2
}
