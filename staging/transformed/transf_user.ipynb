{
 "cells": [
  {
   "cell_type": "code",
   "execution_count": 2,
   "metadata": {},
   "outputs": [],
   "source": [
    "import pandas as pd\n",
    "raw_users_file = 'C:/Users/AnanyaSarkar/Documents/project/datascienceandengg/.venv/staging/raw/users.csv'\n",
    "transformed_users_file = 'C:/Users/AnanyaSarkar/Documents/project/datascienceandengg/.venv/staging/transformed/transformed_users.csv'\n"
   ]
  },
  {
   "cell_type": "code",
   "execution_count": 3,
   "metadata": {},
   "outputs": [],
   "source": [
    "\n",
    "users_df = pd.read_csv(raw_users_file)\n"
   ]
  },
  {
   "cell_type": "code",
   "execution_count": 4,
   "metadata": {},
   "outputs": [
    {
     "name": "stdout",
     "output_type": "stream",
     "text": [
      "Raw Users Data:\n",
      "   id             name                       mail      role  designationId  \\\n",
      "0   1    Erika Mata MD      zmccarthy@example.com     admin              1   \n",
      "1   2       Renee Bell          eneal@example.org     admin             10   \n",
      "2   3   Amanda Gardner       dstewart@example.com  employee             10   \n",
      "3   4  Victoria Walker  angelachapman@example.net  employee              7   \n",
      "4   5     Stephen Cook    hughescindy@example.org     admin              6   \n",
      "\n",
      "  sex  experience    joindate hashedpassword  \n",
      "0   f           7  2021-10-03     Us5RKVAa%R  \n",
      "1   m          12  2021-07-24     yhX*BeTq%2  \n",
      "2   f          18  2024-07-28     eREm60VaM@  \n",
      "3   m          10  2022-11-05     q^M8vDsY$!  \n",
      "4   f           5  2022-05-13     qRA89JMk!H  \n"
     ]
    }
   ],
   "source": [
    "\n",
    "#print(\"Raw Users Data:\")\n",
    "#print(users_df.head())\n"
   ]
  },
  {
   "cell_type": "code",
   "execution_count": 5,
   "metadata": {},
   "outputs": [],
   "source": [
    "\n",
    "# Transformations\n",
    "# join year \n",
    "users_df['join_year'] = pd.to_datetime(users_df['joindate']).dt.year\n"
   ]
  },
  {
   "cell_type": "code",
   "execution_count": 6,
   "metadata": {},
   "outputs": [],
   "source": [
    "\n",
    "# role casing (capitalize first letter)\n",
    "users_df['role'] = users_df['role'].str.title()\n"
   ]
  },
  {
   "cell_type": "code",
   "execution_count": 7,
   "metadata": {},
   "outputs": [],
   "source": [
    "\n",
    "# Drop passowrd\n",
    "transformed_users_df = users_df.drop(columns=['hashedpassword'])\n"
   ]
  },
  {
   "cell_type": "code",
   "execution_count": 16,
   "metadata": {},
   "outputs": [],
   "source": [
    "\n",
    "# rename \n",
    "transformed_users_df.rename(columns={\n",
    "    'id': 'user_id',\n",
    "    'name': 'user_name',\n",
    "    'mail': 'email',\n",
    "    'designationId': 'designation_id',\n",
    "    'experience': 'years_of_experience',\n",
    "    'joindate': 'join_date'\n",
    "}, inplace=True)\n"
   ]
  },
  {
   "cell_type": "code",
   "execution_count": 9,
   "metadata": {},
   "outputs": [],
   "source": [
    "#drop duplicates\n",
    "users_df.drop_duplicates(subset='id', keep='first', inplace=True)"
   ]
  },
  {
   "cell_type": "code",
   "execution_count": 17,
   "metadata": {},
   "outputs": [],
   "source": [
    "#format email to lowercase\n",
    "transformed_users_df['email'] = transformed_users_df['email'].str.lower()\n"
   ]
  },
  {
   "cell_type": "code",
   "execution_count": 18,
   "metadata": {},
   "outputs": [],
   "source": [
    "#format username\n",
    "transformed_users_df['user_name'] = transformed_users_df['user_name'].str.strip().str.lower()"
   ]
  },
  {
   "cell_type": "code",
   "execution_count": 22,
   "metadata": {},
   "outputs": [],
   "source": [
    "#distribute join date into year month and day\n",
    "transformed_users_df['join_year'] = pd.to_datetime(transformed_users_df['join_date']).dt.year\n",
    "transformed_users_df['join_month'] = pd.to_datetime(transformed_users_df['join_date']).dt.month\n",
    "transformed_users_df['join_day'] = pd.to_datetime(transformed_users_df['join_date']).dt.day"
   ]
  },
  {
   "cell_type": "code",
   "execution_count": 21,
   "metadata": {},
   "outputs": [
    {
     "name": "stdout",
     "output_type": "stream",
     "text": [
      "user_id                 int64\n",
      "user_name              object\n",
      "email                  object\n",
      "role                   object\n",
      "designation_id          int64\n",
      "sex                    object\n",
      "years_of_experience     int64\n",
      "join_date              object\n",
      "join_year               int32\n",
      "dtype: object\n",
      "datetime64[ns]\n",
      "    join_date  tenure\n",
      "0  2021-10-03    1100\n",
      "1  2021-07-24    1171\n",
      "2  2024-07-28      71\n",
      "3  2022-11-05     702\n",
      "4  2022-05-13     878\n",
      "..        ...     ...\n",
      "95 2021-07-27    1168\n",
      "96 2024-01-21     260\n",
      "97 2020-02-09    1702\n",
      "98 2023-03-06     581\n",
      "99 2021-07-01    1194\n",
      "\n",
      "[100 rows x 2 columns]\n"
     ]
    }
   ],
   "source": [
    "print(transformed_users_df.dtypes)\n"
   ]
  },
  {
   "cell_type": "code",
   "execution_count": 24,
   "metadata": {},
   "outputs": [
    {
     "name": "stdout",
     "output_type": "stream",
     "text": [
      "datetime64[ns]\n"
     ]
    }
   ],
   "source": [
    "\n",
    "transformed_users_df['join_date'] = pd.to_datetime(transformed_users_df['join_date'], errors='coerce')\n",
    "\n",
    "print(transformed_users_df['join_date'].dtypes)\n",
    "\n",
    "# Now calculate the tenure in days\n",
    "transformed_users_df['tenure'] = (pd.to_datetime('today') - transformed_users_df['join_date']).dt.days\n",
    "\n"
   ]
  },
  {
   "cell_type": "code",
   "execution_count": 25,
   "metadata": {},
   "outputs": [
    {
     "data": {
      "text/plain": [
       "0     1100\n",
       "1     1171\n",
       "2       71\n",
       "3      702\n",
       "4      878\n",
       "      ... \n",
       "95    1168\n",
       "96     260\n",
       "97    1702\n",
       "98     581\n",
       "99    1194\n",
       "Name: tenure, Length: 100, dtype: int64"
      ]
     },
     "execution_count": 25,
     "metadata": {},
     "output_type": "execute_result"
    }
   ],
   "source": [
    "#transformed_users_df['tenure']"
   ]
  },
  {
   "cell_type": "code",
   "execution_count": 27,
   "metadata": {},
   "outputs": [
    {
     "name": "stdout",
     "output_type": "stream",
     "text": [
      "\n",
      "Transformed users data saved to: C:/Users/AnanyaSarkar/Documents/project/datascienceandengg/.venv/staging/transformed/transformed_users.csv\n"
     ]
    }
   ],
   "source": [
    "\n",
    "\n",
    "#print(transformed_users_df.head())\n",
    "\n",
    "transformed_users_df.to_csv(transformed_users_file, index=False)\n",
    "\n",
    "print(f\"\\nTransformed users data saved to: {transformed_users_file}\")\n"
   ]
  },
  {
   "cell_type": "code",
   "execution_count": 28,
   "metadata": {},
   "outputs": [
    {
     "name": "stdout",
     "output_type": "stream",
     "text": [
      "user_id                         int64\n",
      "user_name                      object\n",
      "email                          object\n",
      "role                           object\n",
      "designation_id                  int64\n",
      "sex                            object\n",
      "years_of_experience             int64\n",
      "join_date              datetime64[ns]\n",
      "join_year                       int32\n",
      "tenure                          int64\n",
      "join_month                      int32\n",
      "join_day                        int32\n",
      "dtype: object\n"
     ]
    }
   ],
   "source": [
    "print(transformed_users_df.dtypes)\n"
   ]
  }
 ],
 "metadata": {
  "kernelspec": {
   "display_name": "Python 3",
   "language": "python",
   "name": "python3"
  },
  "language_info": {
   "codemirror_mode": {
    "name": "ipython",
    "version": 3
   },
   "file_extension": ".py",
   "mimetype": "text/x-python",
   "name": "python",
   "nbconvert_exporter": "python",
   "pygments_lexer": "ipython3",
   "version": "3.12.5"
  }
 },
 "nbformat": 4,
 "nbformat_minor": 2
}
