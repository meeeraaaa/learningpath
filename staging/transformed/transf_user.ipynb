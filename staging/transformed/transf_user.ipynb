{
 "cells": [
  {
   "cell_type": "code",
   "execution_count": 1,
   "metadata": {},
   "outputs": [],
   "source": [
    "import pandas as pd\n",
    "raw_users_file = 'C:/Users/AnanyaSarkar/Documents/project/datascienceandengg/staging/raw/users.csv'\n",
    "transformed_users_file = 'C:/Users/AnanyaSarkar/Documents/project/datascienceandengg/staging/transformed/transformed_users.csv'\n"
   ]
  },
  {
   "cell_type": "code",
   "execution_count": 2,
   "metadata": {},
   "outputs": [],
   "source": [
    "\n",
    "users_df = pd.read_csv(raw_users_file)\n"
   ]
  },
  {
   "cell_type": "code",
   "execution_count": 3,
   "metadata": {},
   "outputs": [],
   "source": [
    "\n",
    "#print(\"Raw Users Data:\")\n",
    "#print(users_df.head())\n"
   ]
  },
  {
   "cell_type": "code",
   "execution_count": 4,
   "metadata": {},
   "outputs": [],
   "source": [
    "\n",
    "# Transformations\n",
    "# join year \n",
    "users_df['join_year'] = pd.to_datetime(users_df['joindate']).dt.year\n"
   ]
  },
  {
   "cell_type": "code",
   "execution_count": 5,
   "metadata": {},
   "outputs": [],
   "source": [
    "\n",
    "# role casing (capitalize first letter)\n",
    "users_df['role'] = users_df['role'].str.title()\n"
   ]
  },
  {
   "cell_type": "code",
   "execution_count": 6,
   "metadata": {},
   "outputs": [],
   "source": [
    "\n",
    "# Drop passowrd\n",
    "transformed_users_df = users_df.drop(columns=['hashedpassword'])\n"
   ]
  },
  {
   "cell_type": "code",
   "execution_count": 7,
   "metadata": {},
   "outputs": [],
   "source": [
    "\n",
    "# rename \n",
    "transformed_users_df.rename(columns={\n",
    "    'id': 'user_id',\n",
    "    'name': 'user_name',\n",
    "    'mail': 'email',\n",
    "    'designationId': 'designation_id',\n",
    "    'experience': 'years_of_experience',\n",
    "    'joindate': 'join_date'\n",
    "}, inplace=True)\n"
   ]
  },
  {
   "cell_type": "code",
   "execution_count": 8,
   "metadata": {},
   "outputs": [],
   "source": [
    "#drop duplicates\n",
    "users_df.drop_duplicates(subset='id', keep='first', inplace=True)"
   ]
  },
  {
   "cell_type": "code",
   "execution_count": 9,
   "metadata": {},
   "outputs": [],
   "source": [
    "#format email to lowercase\n",
    "transformed_users_df['email'] = transformed_users_df['email'].str.lower()\n"
   ]
  },
  {
   "cell_type": "code",
   "execution_count": 10,
   "metadata": {},
   "outputs": [],
   "source": [
    "#format username\n",
    "transformed_users_df['user_name'] = transformed_users_df['user_name'].str.strip().str.lower()"
   ]
  },
  {
   "cell_type": "code",
   "execution_count": 11,
   "metadata": {},
   "outputs": [],
   "source": [
    "#distribute join date into year month and day\n",
    "transformed_users_df['join_year'] = pd.to_datetime(transformed_users_df['join_date']).dt.year\n",
    "transformed_users_df['join_month'] = pd.to_datetime(transformed_users_df['join_date']).dt.month\n",
    "transformed_users_df['join_day'] = pd.to_datetime(transformed_users_df['join_date']).dt.day"
   ]
  },
  {
   "cell_type": "code",
   "execution_count": 12,
   "metadata": {},
   "outputs": [
    {
     "name": "stdout",
     "output_type": "stream",
     "text": [
      "user_id                 int64\n",
      "user_name              object\n",
      "email                  object\n",
      "role                   object\n",
      "designation_id          int64\n",
      "sex                    object\n",
      "years_of_experience     int64\n",
      "join_date              object\n",
      "join_year               int32\n",
      "join_month              int32\n",
      "join_day                int32\n",
      "dtype: object\n"
     ]
    }
   ],
   "source": [
    "print(transformed_users_df.dtypes)\n"
   ]
  },
  {
   "cell_type": "code",
   "execution_count": 13,
   "metadata": {},
   "outputs": [
    {
     "name": "stdout",
     "output_type": "stream",
     "text": [
      "datetime64[ns]\n"
     ]
    }
   ],
   "source": [
    "\n",
    "transformed_users_df['join_date'] = pd.to_datetime(transformed_users_df['join_date'], errors='coerce')\n",
    "\n",
    "print(transformed_users_df['join_date'].dtypes)\n",
    "\n",
    "# Now calculate the tenure in days\n",
    "transformed_users_df['tenure'] = (pd.to_datetime('today') - transformed_users_df['join_date']).dt.days\n",
    "\n"
   ]
  },
  {
   "cell_type": "code",
   "execution_count": 14,
   "metadata": {},
   "outputs": [],
   "source": [
    "#transformed_users_df['tenure']"
   ]
  },
  {
   "cell_type": "code",
   "execution_count": 15,
   "metadata": {},
   "outputs": [
    {
     "name": "stdout",
     "output_type": "stream",
     "text": [
      "\n",
      "Transformed users data saved to: C:/Users/AnanyaSarkar/Documents/project/datascienceandengg/staging/transformed/transformed_users.csv\n"
     ]
    }
   ],
   "source": [
    "\n",
    "\n",
    "#print(transformed_users_df.head())\n",
    "\n",
    "transformed_users_df.to_csv(transformed_users_file, index=False)\n",
    "\n",
    "print(f\"\\nTransformed users data saved to: {transformed_users_file}\")\n"
   ]
  },
  {
   "cell_type": "code",
   "execution_count": 16,
   "metadata": {},
   "outputs": [
    {
     "name": "stdout",
     "output_type": "stream",
     "text": [
      "user_id                         int64\n",
      "user_name                      object\n",
      "email                          object\n",
      "role                           object\n",
      "designation_id                  int64\n",
      "sex                            object\n",
      "years_of_experience             int64\n",
      "join_date              datetime64[ns]\n",
      "join_year                       int32\n",
      "join_month                      int32\n",
      "join_day                        int32\n",
      "tenure                          int64\n",
      "dtype: object\n"
     ]
    }
   ],
   "source": [
    "print(transformed_users_df.dtypes)\n"
   ]
  }
 ],
 "metadata": {
  "kernelspec": {
   "display_name": "Python 3",
   "language": "python",
   "name": "python3"
  },
  "language_info": {
   "codemirror_mode": {
    "name": "ipython",
    "version": 3
   },
   "file_extension": ".py",
   "mimetype": "text/x-python",
   "name": "python",
   "nbconvert_exporter": "python",
   "pygments_lexer": "ipython3",
   "version": "3.12.5"
  }
 },
 "nbformat": 4,
 "nbformat_minor": 2
}
