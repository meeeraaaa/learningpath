{
 "cells": [
  {
   "cell_type": "code",
   "execution_count": 1,
   "metadata": {},
   "outputs": [
    {
     "name": "stdout",
     "output_type": "stream",
     "text": [
      "id                        int64\n",
      "courseId                  int64\n",
      "userId                    int64\n",
      "updatedAt                object\n",
      "chapters_completed        int64\n",
      "percentage_completed    float64\n",
      "certificate              object\n",
      "dtype: object\n"
     ]
    }
   ],
   "source": [
    "import pandas as pd\n",
    "raw_progress_file = 'C:/Users/AnanyaSarkar/Documents/project/datascienceandengg/.venv/staging/raw/progress.csv'\n",
    "transformed_progress_file = 'C:/Users/AnanyaSarkar/Documents/project/datascienceandengg/.venv/staging/transformed/transformed_progress.csv'\n",
    "progress_df = pd.read_csv(raw_progress_file)\n",
    "print(progress_df.dtypes)"
   ]
  },
  {
   "cell_type": "code",
   "execution_count": 3,
   "metadata": {},
   "outputs": [],
   "source": [
    "#Transformations\n",
    "#  'createdAt' to datetime\n",
    "progress_df['updatedAt'] = pd.to_datetime(progress_df['updatedAt'], errors='coerce')"
   ]
  },
  {
   "cell_type": "code",
   "execution_count": 4,
   "metadata": {},
   "outputs": [],
   "source": [
    "courses_df = progress_df.drop(columns=['certificate'])\n"
   ]
  },
  {
   "cell_type": "code",
   "execution_count": 5,
   "metadata": {},
   "outputs": [],
   "source": [
    "progress_df['updated_day'] = progress_df['updatedAt'].dt.day\n",
    "progress_df['updated_month'] = progress_df['updatedAt'].dt.month\n",
    "progress_df['updated_year'] = progress_df['updatedAt'].dt.year\n",
    "\n",
    "#  drop updatedAt column\n",
    "progress_df = progress_df.drop(columns=['updatedAt'])"
   ]
  },
  {
   "cell_type": "code",
   "execution_count": 6,
   "metadata": {},
   "outputs": [],
   "source": [
    "progress_df = progress_df.drop_duplicates()\n"
   ]
  },
  {
   "cell_type": "code",
   "execution_count": 7,
   "metadata": {},
   "outputs": [],
   "source": [
    "def categorize_progress(row):\n",
    "    if row['percentage_completed'] == 0:\n",
    "        return 'Not Started'\n",
    "    elif row['percentage_completed'] < 100:\n",
    "        return 'In Progress'\n",
    "    else:\n",
    "        return 'Completed'\n",
    "\n",
    "progress_df['progress_category'] = progress_df.apply(categorize_progress, axis=1)"
   ]
  },
  {
   "cell_type": "code",
   "execution_count": 8,
   "metadata": {},
   "outputs": [
    {
     "name": "stdout",
     "output_type": "stream",
     "text": [
      "\n",
      "Transformed users data saved to: C:/Users/AnanyaSarkar/Documents/project/datascienceandengg/.venv/staging/transformed/transformed_progress.csv\n"
     ]
    }
   ],
   "source": [
    "\n",
    "progress_df.to_csv(transformed_progress_file, index=False)\n",
    "\n",
    "print(f\"\\nTransformed users data saved to: {transformed_progress_file}\")"
   ]
  }
 ],
 "metadata": {
  "kernelspec": {
   "display_name": "Python 3",
   "language": "python",
   "name": "python3"
  },
  "language_info": {
   "codemirror_mode": {
    "name": "ipython",
    "version": 3
   },
   "file_extension": ".py",
   "mimetype": "text/x-python",
   "name": "python",
   "nbconvert_exporter": "python",
   "pygments_lexer": "ipython3",
   "version": "3.12.5"
  }
 },
 "nbformat": 4,
 "nbformat_minor": 2
}
